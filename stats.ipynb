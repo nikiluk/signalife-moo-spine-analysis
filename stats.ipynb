{
 "cells": [
  {
   "cell_type": "markdown",
   "metadata": {
    "collapsed": false
   },
   "source": [
    "#Build global stats"
   ]
  },
  {
   "cell_type": "markdown",
   "metadata": {},
   "source": [
    "##Import data and libraries"
   ]
  },
  {
   "cell_type": "code",
   "execution_count": 2,
   "metadata": {
    "collapsed": false
   },
   "outputs": [],
   "source": [
    "import iofunctions as iof\n",
    "import os\n",
    "import pandas as pd\n",
    "import matplotlib.pyplot as plt\n",
    "%matplotlib inline\n",
    "import warnings\n",
    "import numpy as np\n",
    "import seaborn as sns\n",
    "from matplotlib import rcParams\n",
    "rcParams.update({'figure.autolayout': True})\n",
    "\n",
    "#defining 10-color pallette using http://flatui.com/flat-ui-color-palette/\n",
    "#light\n",
    "flatui_l = [\"#1abc9c\", \"#2ecc71\", \"#3498db\", \"#9b59b6\", \"#34495e\", \"#f1c40f\", \"#e67e22\", \"#e74c3c\", \"#ecf0f1\", \"#95a5a6\"]\n",
    "#dark\n",
    "flatui_d = [\"#16a085\", \"#27ae60\", \"#2980b9\", \"#8e44ad\", \"#2c3e50\", \"#f39c12\", \"#d35400\", \"#c0392b\", \"#bdc3c7\", \"#7f8c8d\"]\n",
    "\n",
    "warnings.filterwarnings('ignore')\n",
    "plt.style.use('ggplot')\n",
    "\n",
    "#importing global data\n",
    "mergedSpineDFMetaCompleteID = pd.read_excel('output/mergedSpineDFMetaCompleteID.xlsx','Sheet1')\n",
    "\n",
    "#separating measures for Odd and Normal\n",
    "N = mergedSpineDFMetaCompleteID[mergedSpineDFMetaCompleteID['oddType'] == 'Normal']\n",
    "C = mergedSpineDFMetaCompleteID\n",
    "\n",
    "#prefiltering basal and apical dendrites of l5\n",
    "Napical = N[(N.dendriteType==\"apical\")&(N.pyramidalLayer==\"l5\")]\n",
    "Nbasal = N[(N.dendriteType==\"basal\")&(N.pyramidalLayer==\"l5\")]\n",
    "#prefiltering basal and apical dendrites of l5\n",
    "Capical = C[(C.dendriteType==\"apical\")&(C.pyramidalLayer==\"l5\")]\n",
    "Cbasal = C[(C.dendriteType==\"basal\")&(C.pyramidalLayer==\"l5\")]"
   ]
  },
  {
   "cell_type": "markdown",
   "metadata": {},
   "source": [
    "##create pivot table with grouping by MouseID for each measurement"
   ]
  },
  {
   "cell_type": "markdown",
   "metadata": {},
   "source": [
    "###data groupings"
   ]
  },
  {
   "cell_type": "code",
   "execution_count": 3,
   "metadata": {
    "collapsed": false
   },
   "outputs": [],
   "source": [
    "CaSD = Capical.groupby(['Genotype','mouseID'], sort=True)['2D Spine Density 1/um']\n",
    "NaSL = Napical.groupby(['Genotype','mouseID'], sort=True)[\"Spine Length, um\"]\n",
    "NaHW = Napical.groupby(['Genotype','mouseID'], sort=True)[\"Head Width, um\"]\n",
    "NaST = Napical.groupby(['Genotype','mouseID'], sort=True)[\"Straightness\"]\n",
    "\n",
    "CbSD = Capical.groupby(['Genotype','mouseID'], sort=True)['2D Spine Density 1/um']\n",
    "NbSL = Nbasal.groupby(['Genotype','mouseID'], sort=True)[\"Spine Length, um\"]\n",
    "NbHW = Nbasal.groupby(['Genotype','mouseID'], sort=True)[\"Head Width, um\"]\n",
    "NbST = Nbasal.groupby(['Genotype','mouseID'], sort=True)[\"Straightness\"]"
   ]
  },
  {
   "cell_type": "markdown",
   "metadata": {},
   "source": [
    "###plotting for each mouse and genotype"
   ]
  },
  {
   "cell_type": "code",
   "execution_count": 4,
   "metadata": {
    "collapsed": false
   },
   "outputs": [],
   "source": [
    "#introducing Standard Error of the Mean function\n",
    "sem = lambda x: (x.std() / np.sqrt(x.count()))\n",
    "#colors of flatui_d\n",
    "color8 = sns.color_palette(flatui_d,8)\n",
    "\n",
    "#ApicalL5['Spine Length, um'].plot.hist(stacked=False, bins=30)\n",
    "fig, axes = plt.subplots(nrows=2, ncols=4, sharey=True, figsize=(12, 6))\n",
    "\n",
    "#Apical\n",
    "ax = CaSD.mean().plot.barh(xerr=CaSD.apply(sem), color=color8, ax = axes[0,0])\n",
    "ax.set_title('2D Spine Density 1/um')\n",
    "ax.set_ylabel('Apical')\n",
    "\n",
    "ax = NaSL.mean().plot.barh(xerr=NaSL.apply(sem), color=color8, ax = axes[0,1])\n",
    "ax.set_title(\"Spine Length, um\")\n",
    "\n",
    "ax = NaHW.mean().plot.barh(xerr=NaHW.apply(sem), color=color8, ax = axes[0,2])\n",
    "ax.set_title(\"Head Width, um\")\n",
    "\n",
    "ax = NaST.mean().plot.barh(xerr=NaST.apply(sem), color=color8, ax = axes[0,3])\n",
    "ax.set_xlim([0.95,1])\n",
    "ax.set_title(\"Straightness\")\n",
    "\n",
    "#Basal\n",
    "ax = CbSD.mean().plot.barh(xerr=CbSD.apply(sem), color=color8, ax = axes[1,0])\n",
    "ax.set_ylabel('Basal')\n",
    "\n",
    "ax = NbSL.mean().plot.barh(xerr=NbSL.apply(sem), color=color8, ax = axes[1,1])\n",
    "\n",
    "ax = NbHW.mean().plot.barh(xerr=NbHW.apply(sem), color=color8, ax = axes[1,2])\n",
    "\n",
    "ax = NbST.mean().plot.barh(xerr=NbST.apply(sem), color=color8, ax = axes[1,3])\n",
    "ax.set_xlim([0.95,1])\n",
    "\n",
    "plt.savefig('mouseID-stats.png')"
   ]
  },
  {
   "cell_type": "markdown",
   "metadata": {},
   "source": [
    "##WT vs. CKO"
   ]
  },
  {
   "cell_type": "markdown",
   "metadata": {},
   "source": [
    "###plot differences"
   ]
  },
  {
   "cell_type": "code",
   "execution_count": 7,
   "metadata": {},
   "outputs": [],
   "source": [
    "fig, axes = plt.subplots(nrows=2, ncols=4, sharex=True, figsize=(10, 8))\n",
    "\n",
    "#Apical\n",
    "ax = sns.boxplot(y=\"2D Spine Density 1/um\", x=\"Genotype\", data=Capical, palette=\"Set3\", width=0.4, ax = axes[0,0])\n",
    "ax.set_title('2D Spine Density 1/um')\n",
    "ax.set_ylabel('Apical')\n",
    "ax = sns.boxplot(y=\"Spine Length, um\", x=\"Genotype\", data=Napical, palette=\"Set3\", width=0.4, ax = axes[0,1])\n",
    "ax.set_title(\"Spine Length, um\")\n",
    "ax = sns.boxplot(y=\"Head Width, um\", x=\"Genotype\", data=Napical, palette=\"Set3\", width=0.4, ax = axes[0,2])\n",
    "ax.set_title(\"Head Width, um\")\n",
    "ax = sns.boxplot(y=\"Straightness\", x=\"Genotype\", data=Napical, palette=\"Set3\", width=0.4, ax = axes[0,3])\n",
    "ax.set_title(\"Straightness\")\n",
    "\n",
    "#Basal\n",
    "ax = sns.boxplot(y=\"2D Spine Density 1/um\", x=\"Genotype\", data=Cbasal, palette=\"Set3\", width=0.4, ax = axes[1,0])\n",
    "ax.set_ylabel('Basal')\n",
    "ax = sns.boxplot(y=\"Spine Length, um\", x=\"Genotype\", data=Nbasal, palette=\"Set3\", width=0.4, ax = axes[1,1])\n",
    "ax = sns.boxplot(y=\"Head Width, um\", x=\"Genotype\", data=Nbasal, palette=\"Set3\", width=0.4, ax = axes[1,2])\n",
    "ax = sns.boxplot(y=\"Straightness\", x=\"Genotype\", data=Nbasal, palette=\"Set3\", width=0.4, ax = axes[1,3])\n",
    "plt.savefig('WT-CKO.png')"
   ]
  },
  {
   "cell_type": "markdown",
   "metadata": {},
   "source": [
    "###set data for comparison 2D spine density"
   ]
  },
  {
   "cell_type": "code",
   "execution_count": 3,
   "metadata": {},
   "outputs": [],
   "source": [
    "#l5\n",
    "apicalCKOl5SD = Capical[Capical.Genotype==\"CKO\"]['2D Spine Density 1/um'].drop_duplicates()\n",
    "apicalWTl5SD = Capical[Capical.Genotype==\"WT\"]['2D Spine Density 1/um'].drop_duplicates()\n",
    "\n",
    "basalCKOl5SD = Cbasal[Cbasal.Genotype==\"CKO\"]['2D Spine Density 1/um'].drop_duplicates()\n",
    "basalWTl5SD = Cbasal[Cbasal.Genotype==\"WT\"]['2D Spine Density 1/um'].drop_duplicates()\n",
    "\n",
    "#l3, not using forward due to low amounts of data\n",
    "apicalCKOl3SD = C[(C.Genotype==\"CKO\") & (C.dendriteType==\"apical\")&(C.pyramidalLayer==\"l3\")]['2D Spine Density 1/um'].drop_duplicates()\n",
    "apicalWTl3SD = C[(C.Genotype==\"WT\") & (C.dendriteType==\"apical\")&(C.pyramidalLayer==\"l3\")]['2D Spine Density 1/um'].drop_duplicates()\n",
    "\n",
    "basalCKOl3SD = C[(C.Genotype==\"CKO\") & (C.dendriteType==\"basal\")&(C.pyramidalLayer==\"l3\")]['2D Spine Density 1/um'].drop_duplicates()\n",
    "basalWTl3SD = C[(C.Genotype==\"WT\") & (C.dendriteType==\"basal\")&(C.pyramidalLayer==\"l3\")]['2D Spine Density 1/um'].drop_duplicates()"
   ]
  },
  {
   "cell_type": "markdown",
   "metadata": {},
   "source": [
    "###run similarity tests, calculate p-values for 2D spine density on l5"
   ]
  },
  {
   "cell_type": "code",
   "execution_count": 4,
   "metadata": {
    "collapsed": true
   },
   "outputs": [
    {
     "name": "stdout",
     "output_type": "stream",
     "text": [
      "Apical Dendrites on l5===============\nTwo-sample t-test:                        t = -5.13762  p = 1.06513e-06\nTwo-sample Wilcoxon Mann Whitney test,    p= 3.15896011998e-06\nBasal Dendrites on l5================\nTwo-sample t-test:                        t = -4.26078  p = 4.372e-05\nTwo-sample Wilcoxon Mann Whitney test,    p= 5.23678296759e-07\n"
     ]
    }
   ],
   "source": [
    "import numpy as np\n",
    "from scipy.stats import ttest_1samp, wilcoxon, ttest_ind, mannwhitneyu\n",
    "from scipy.special import stdtr\n",
    "\n",
    "print(\"Apical Dendrites on l5===============\")\n",
    "t, p = ttest_ind(apicalCKOl5SD, apicalWTl5SD, equal_var=False)\n",
    "print(\"Two-sample t-test:                        t = %g  p = %g\" % (t, p))\n",
    "u, p_value = mannwhitneyu(apicalCKOl5SD, apicalWTl5SD)\n",
    "print(\"Two-sample Wilcoxon Mann Whitney test,    p=\", p_value)\n",
    "\n",
    "print(\"Basal Dendrites on l5================\")\n",
    "t, p = ttest_ind(basalCKOl5SD, basalWTl5SD, equal_var=False)\n",
    "print(\"Two-sample t-test:                        t = %g  p = %g\" % (t, p))\n",
    "u, p_value = mannwhitneyu(basalCKOl5SD, basalWTl5SD)\n",
    "print(\"Two-sample Wilcoxon Mann Whitney test,    p=\", p_value)"
   ]
  },
  {
   "cell_type": "markdown",
   "metadata": {},
   "source": [
    "###publish describe stats"
   ]
  },
  {
   "cell_type": "code",
   "execution_count": 5,
   "metadata": {
    "collapsed": false
   },
   "outputs": [
    {
     "name": "stdout",
     "output_type": "stream",
     "text": [
      "WT Apical===============\ncount    103.000000\nmean       0.453472\nstd        0.124546\nmin        0.243126\n25%        0.361633\n50%        0.425973\n75%        0.529505\nmax        0.801723\nName: 2D Spine Density 1/um, dtype: float64\nCKO Apical==============\ncount    52.000000\nmean      0.357452\nstd       0.101649\nmin       0.178879\n25%       0.286610\n50%       0.341836\n75%       0.423054\nmax       0.628959\nName: 2D Spine Density 1/um, dtype: float64\nWT Basal===============\ncount    71.000000\nmean      0.383170\nstd       0.114646\nmin       0.172748\n25%       0.287840\n50%       0.365929\n75%       0.469171\nmax       0.704303\nName: 2D Spine Density 1/um, dtype: float64\nCKO Basal==============\ncount    56.000000\nmean      0.286865\nstd       0.135063\nmin       0.067741\n25%       0.211596\n50%       0.251255\n75%       0.326263\nmax       0.831316\nName: 2D Spine Density 1/um, dtype: float64\n"
     ]
    }
   ],
   "source": [
    "print(\"WT Apical===============\")\n",
    "print(apicalWTl5SD.describe())\n",
    "print(\"CKO Apical==============\")\n",
    "print(apicalCKOl5SD.describe())\n",
    "\n",
    "print(\"WT Basal===============\")\n",
    "print(basalWTl5SD.describe())\n",
    "print(\"CKO Basal==============\")\n",
    "print(basalCKOl5SD.describe())"
   ]
  },
  {
   "cell_type": "markdown",
   "metadata": {},
   "source": [
    "### Other Stats"
   ]
  },
  {
   "cell_type": "code",
   "execution_count": 22,
   "metadata": {},
   "outputs": [],
   "source": [
    "mergedSpineDFMetaNormalApical = mergedSpineDFMetaComplete[(mergedSpineDFMetaComplete['oddType'] == \"Normal\")&(mergedSpineDFMetaComplete.dendriteType==\"apical\")&(mergedSpineDFMetaComplete.pyramidalLayer==\"l5\")].drop_duplicates()\n",
    "mergedSpineDFMetaNormalBasal = mergedSpineDFMetaComplete[(mergedSpineDFMetaComplete['oddType'] == \"Normal\")&(mergedSpineDFMetaComplete.dendriteType==\"basal\")&(mergedSpineDFMetaComplete.pyramidalLayer==\"l5\")].drop_duplicates()\n",
    "\n",
    "#\"Spine Length, um\"\n",
    "#\"Head Width, um\"\n",
    "#\"Straightness\"\n",
    "CKOa_sl=Napical[Napical.Genotype==\"CKO\"][\"Spine Length, um\"]\n",
    "WTa_sl=Napical[Napical.Genotype==\"WT\"][\"Spine Length, um\"]\n",
    "CKOa_hw=Napical[Napical.Genotype==\"CKO\"][\"Head Width, um\"]\n",
    "WTa_hw=Napical[Napical.Genotype==\"WT\"][\"Head Width, um\"]\n",
    "CKOa_st=Napical[Napical.Genotype==\"CKO\"][\"Straightness\"]\n",
    "WTa_st=Napical[Napical.Genotype==\"WT\"][\"Straightness\"]\n",
    "\n",
    "CKOb_sl=Napical[Napical.Genotype==\"CKO\"][\"Spine Length, um\"]\n",
    "WTb_sl=Napical[Napical.Genotype==\"WT\"][\"Spine Length, um\"]\n",
    "CKOb_hw=Napical[Napical.Genotype==\"CKO\"][\"Head Width, um\"]\n",
    "WTb_hw=Napical[Napical.Genotype==\"WT\"][\"Head Width, um\"]\n",
    "CKOb_st=Napical[Napical.Genotype==\"CKO\"][\"Straightness\"]\n",
    "WTb_st=Napical[Napical.Genotype==\"WT\"][\"Straightness\"]"
   ]
  },
  {
   "cell_type": "markdown",
   "metadata": {},
   "source": [
    "###run similarity tests, calculate p-values"
   ]
  },
  {
   "cell_type": "code",
   "execution_count": 23,
   "metadata": {},
   "outputs": [
    {
     "name": "stdout",
     "output_type": "stream",
     "text": [
      "Apical Spine Length on l5===============\nTwo-sample t-test:                        t = 1.49322  p = 0.135558\nTwo-sample Wilcoxon Mann Whitney test,    p= 0.240619911428\nBasal Spine Length on l5================\nTwo-sample t-test:                        t = 2.62353  p = 0.00881029\nTwo-sample Wilcoxon Mann Whitney test,    p= 0.0348179803957\n------------------------------------------------------------\nApical Head Width on l5===============\nTwo-sample t-test:                        t = -0.11652  p = 0.907254\nTwo-sample Wilcoxon Mann Whitney test,    p= 0.0616287736056\nBasal Head Width on l5================\nTwo-sample t-test:                        t = 1.84276  p = 0.0655972\nTwo-sample Wilcoxon Mann Whitney test,    p= 0.357395660809\n------------------------------------------------------------\nApical Straightness on l5===============\nTwo-sample t-test:                        t = -1.78907  p = 0.0737889\nTwo-sample Wilcoxon Mann Whitney test,    p= 0.00507003676406\nBasal Straightness on l5================\nTwo-sample t-test:                        t = 1.78574  p = 0.0743329\nTwo-sample Wilcoxon Mann Whitney test,    p= 0.194914753174\n"
     ]
    }
   ],
   "source": [
    "print(\"Apical Spine Length on l5===============\")\n",
    "t, p = ttest_ind(CKOa_sl, WTa_sl, equal_var=False)\n",
    "print(\"Two-sample t-test:                        t = %g  p = %g\" % (t, p))\n",
    "u, p_value = mannwhitneyu(CKOa_sl, WTa_sl)\n",
    "print(\"Two-sample Wilcoxon Mann Whitney test,    p=\", p_value)\n",
    "\n",
    "print(\"Basal Spine Length on l5================\")\n",
    "t, p = ttest_ind(CKOb_sl, WTb_sl, equal_var=False)\n",
    "print(\"Two-sample t-test:                        t = %g  p = %g\" % (t, p))\n",
    "u, p_value = mannwhitneyu(CKOb_sl, WTb_sl)\n",
    "print(\"Two-sample Wilcoxon Mann Whitney test,    p=\", p_value)\n",
    "print(\"------------------------------------------------------------\")\n",
    "\n",
    "print(\"Apical Head Width on l5===============\")\n",
    "t, p = ttest_ind(CKOa_hw, WTa_hw, equal_var=False)\n",
    "print(\"Two-sample t-test:                        t = %g  p = %g\" % (t, p))\n",
    "u, p_value = mannwhitneyu(CKOa_hw, WTa_hw)\n",
    "print(\"Two-sample Wilcoxon Mann Whitney test,    p=\", p_value)\n",
    "\n",
    "print(\"Basal Head Width on l5================\")\n",
    "t, p = ttest_ind(CKOb_hw, WTb_hw, equal_var=False)\n",
    "print(\"Two-sample t-test:                        t = %g  p = %g\" % (t, p))\n",
    "u, p_value = mannwhitneyu(CKOb_hw, WTb_hw)\n",
    "print(\"Two-sample Wilcoxon Mann Whitney test,    p=\", p_value)\n",
    "print(\"------------------------------------------------------------\")\n",
    "\n",
    "print(\"Apical Straightness on l5===============\")\n",
    "t, p = ttest_ind(CKOa_st, WTa_st, equal_var=False)\n",
    "print(\"Two-sample t-test:                        t = %g  p = %g\" % (t, p))\n",
    "u, p_value = mannwhitneyu(CKOa_st, WTa_st)\n",
    "print(\"Two-sample Wilcoxon Mann Whitney test,    p=\", p_value)\n",
    "\n",
    "print(\"Basal Straightness on l5================\")\n",
    "t, p = ttest_ind(CKOb_st, WTb_st, equal_var=False)\n",
    "print(\"Two-sample t-test:                        t = %g  p = %g\" % (t, p))\n",
    "u, p_value = mannwhitneyu(CKOb_st, WTb_st)\n",
    "print(\"Two-sample Wilcoxon Mann Whitney test,    p=\", p_value)"
   ]
  }
 ],
 "metadata": {
  "kernelspec": {
   "display_name": "Python 2",
   "language": "python",
   "name": "python2"
  },
  "language_info": {
   "codemirror_mode": {
    "name": "ipython",
    "version": 2.0
   },
   "file_extension": ".py",
   "mimetype": "text/x-python",
   "name": "python",
   "nbconvert_exporter": "python",
   "pygments_lexer": "ipython2",
   "version": "2.7.6"
  }
 },
 "nbformat": 4,
 "nbformat_minor": 0
}