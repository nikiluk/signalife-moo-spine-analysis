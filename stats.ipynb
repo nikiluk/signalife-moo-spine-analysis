{
 "cells": [
  {
   "cell_type": "code",
   "execution_count": 9,
   "metadata": {
    "collapsed": false
   },
   "outputs": [
    {
     "data": {
      "text/plain": [
       "9160    0.464306\n9161    0.464306\n9162    0.464306\n9163    0.464306\n9164    0.464306\nName: 2D Spine Density 1/um, dtype: float64"
      ]
     },
     "execution_count": 9,
     "metadata": {},
     "output_type": "execute_result"
    }
   ],
   "source": [
    "import iofunctions as iof\n",
    "import os\n",
    "import pandas as pd\n",
    "import matplotlib.pyplot as plt\n",
    "%matplotlib inline\n",
    "import warnings\n",
    "\n",
    "warnings.filterwarnings('ignore')\n",
    "plt.style.use('ggplot')\n",
    "\n",
    "mergedSpineDFMetaComplete = pd.read_excel('output/mergedSpineDFMetaComplete.xlsx','Sheet1')\n"
   ]
  },
  {
   "cell_type": "code",
   "execution_count": 56,
   "metadata": {},
   "outputs": [],
   "source": [
    "apicalCKO = mergedSpineDFMetaComplete[(mergedSpineDFMetaComplete.Genotype==\"CKO\") & (mergedSpineDFMetaComplete.dendriteType==\"apical\")&(mergedSpineDFMetaComplete.pyramidalLayer==\"l5\")]['2D Spine Density 1/um'].drop_duplicates()\n",
    "apicalWT = mergedSpineDFMetaComplete[(mergedSpineDFMetaComplete.Genotype==\"WT\") & (mergedSpineDFMetaComplete.dendriteType==\"apical\")&(mergedSpineDFMetaComplete.pyramidalLayer==\"l5\")]['2D Spine Density 1/um'].drop_duplicates()\n",
    "\n",
    "basalCKO = mergedSpineDFMetaComplete[(mergedSpineDFMetaComplete.Genotype==\"CKO\") & (mergedSpineDFMetaComplete.dendriteType==\"basal\")&(mergedSpineDFMetaComplete.pyramidalLayer==\"l5\")]['2D Spine Density 1/um'].drop_duplicates()\n",
    "basalWT = mergedSpineDFMetaComplete[(mergedSpineDFMetaComplete.Genotype==\"WT\") & (mergedSpineDFMetaComplete.dendriteType==\"basal\")&(mergedSpineDFMetaComplete.pyramidalLayer==\"l5\")]['2D Spine Density 1/um'].drop_duplicates()"
   ]
  },
  {
   "cell_type": "code",
   "execution_count": 57,
   "metadata": {
    "collapsed": true
   },
   "outputs": [
    {
     "name": "stdout",
     "output_type": "stream",
     "text": [
      "Apical Dendrites on l5===============\nTwo-sample t-test:                        t = -5.13762  p = 1.06513e-06\nTwo-sample Wilcoxon Mann Whitney test,    p= 3.15896011998e-06\nBasal Dendrites on l5================\nBasal ttest_ind:                          t = -4.26078  p = 4.372e-05\nTwo-sample Wilcoxon Mann Whitney test,    p= 5.23678296759e-07\n"
     ]
    }
   ],
   "source": [
    "import numpy as np\n",
    "from scipy.stats import ttest_1samp, wilcoxon, ttest_ind, mannwhitneyu\n",
    "from scipy.special import stdtr\n",
    "\n",
    "print(\"Apical Dendrites on l5===============\")\n",
    "t, p = ttest_ind(apicalCKO, apicalWT, equal_var=False)\n",
    "print(\"Two-sample t-test:                        t = %g  p = %g\" % (t, p))\n",
    "u, p_value = mannwhitneyu(apicalCKO, apicalWT)\n",
    "print(\"Two-sample Wilcoxon Mann Whitney test,    p=\", p_value)\n",
    "\n",
    "print(\"Basal Dendrites on l5================\")\n",
    "t, p = ttest_ind(basalCKO, basalWT, equal_var=False)\n",
    "print(\"Basal ttest_ind:                          t = %g  p = %g\" % (t, p))\n",
    "u, p_value = mannwhitneyu(basalCKO, basalWT)\n",
    "print(\"Two-sample Wilcoxon Mann Whitney test,    p=\", p_value)"
   ]
  },
  {
   "cell_type": "code",
   "execution_count": 58,
   "metadata": {},
   "outputs": [
    {
     "name": "stdout",
     "output_type": "stream",
     "text": [
      "WT Apical===============\ncount    103.000000\nmean       0.453472\nstd        0.124546\nmin        0.243126\n25%        0.361633\n50%        0.425973\n75%        0.529505\nmax        0.801723\nName: 2D Spine Density 1/um, dtype: float64\nCKO Apical==============\ncount    52.000000\nmean      0.357452\nstd       0.101649\nmin       0.178879\n25%       0.286610\n50%       0.341836\n75%       0.423054\nmax       0.628959\nName: 2D Spine Density 1/um, dtype: float64\n"
     ]
    }
   ],
   "source": [
    "print(\"WT Apical===============\")\n",
    "print(apicalWT.describe())\n",
    "print(\"CKO Apical==============\")\n",
    "print(apicalCKO.describe())"
   ]
  }
 ],
 "metadata": {
  "kernelspec": {
   "display_name": "Python 2",
   "language": "python",
   "name": "python2"
  },
  "language_info": {
   "codemirror_mode": {
    "name": "ipython",
    "version": 2.0
   },
   "file_extension": ".py",
   "mimetype": "text/x-python",
   "name": "python",
   "nbconvert_exporter": "python",
   "pygments_lexer": "ipython2",
   "version": "2.7.6"
  }
 },
 "nbformat": 4,
 "nbformat_minor": 0
}