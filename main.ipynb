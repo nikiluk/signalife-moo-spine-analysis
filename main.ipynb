{
 "cells": [
  {
   "cell_type": "code",
   "execution_count": 1,
   "metadata": {
    "collapsed": true
   },
   "outputs": [
    {
     "name": "stdout",
     "output_type": "stream",
     "text": [
      "READ OK: 2016-10-14_id9643_slide1_column1_slice2_100x-ScMOS_000-1_Detailed.csv\nERROR Odd: 2016-10-14_id9643_slide1_column1_slice2_100x-ScMOS_000-1_Detailed.csv\nREAD OK: 2016-10-14_id9643_slide1_column1_slice2_100x-ScMOS_011-1_Detailed.csv\nERROR Odd: 2016-10-14_id9643_slide1_column1_slice2_100x-ScMOS_011-1_Detailed.csv\nREAD OK: 2016-10-14_id9643_slide1_column1_slice2_100x-ScMOS_039-1_Detailed.csv\nREAD OK: 2016-10-14_id9643_slide1_column1_slice2_100x-ScMOS_040-1_Detailed.csv\nERROR Odd: 2016-10-14_id9643_slide1_column1_slice2_100x-ScMOS_040-1_Detailed.csv\n"
     ]
    },
    {
     "name": "stdout",
     "output_type": "stream",
     "text": [
      "READ OK: 2016-10-14_id9643_slide1_column1_slice2_100x-ScMOS_043-1_Detailed.csv\nREAD OK: 2016-10-14_id9643_slide1_column1_slice2_100x-ScMOS_046-1_Detailed.csv\nERROR Odd: 2016-10-14_id9643_slide1_column1_slice2_100x-ScMOS_046-1_Detailed.csv\nREAD OK: 2016-10-14_id9643_slide1_column1_slice3_100x-ScMOS_0011-1_Detailed.csv\nERROR Odd: 2016-10-14_id9643_slide1_column1_slice3_100x-ScMOS_0011-1_Detailed.csv\nREAD OK: 2016-10-14_id9643_slide1_column1_slice3_100x-ScMOS_0013-1_Detailed.csv\n"
     ]
    },
    {
     "name": "stdout",
     "output_type": "stream",
     "text": [
      "READ OK: 2016-10-14_id9643_slide1_column1_slice3_100x-ScMOS_0014-1_Detailed.csv\nREAD OK: 2016-10-14_id9643_slide1_column1_slice3_100x-ScMOS_0025-1_Detailed.csv\nREAD OK: 2016-10-14_id9643_slide1_column1_slice3_100x-ScMOS_0033-1_Detailed.csv\nERROR Odd: 2016-10-14_id9643_slide1_column1_slice3_100x-ScMOS_0033-1_Detailed.csv\nREAD OK: 2016-10-14_id9643_slide1_column1_slice3_100x-ScMOS_0038-1_Detailed.csv\nERROR Odd: 2016-10-14_id9643_slide1_column1_slice3_100x-ScMOS_0038-1_Detailed.csv\n"
     ]
    },
    {
     "name": "stdout",
     "output_type": "stream",
     "text": [
      "READ OK: 2016-10-14_id9643_slide1_column1_slice4_100x-ScMOS_0011-1_Detailed.csv\nREAD OK: 2016-10-14_id9643_slide1_column1_slice4_100x-ScMOS_0014-1_Detailed.csv\nERROR Odd: 2016-10-14_id9643_slide1_column1_slice4_100x-ScMOS_0014-1_Detailed.csv\nREAD OK: 2016-10-14_id9643_slide1_column1_slice4_100x-ScMOS_0019-1_Detailed.csv\n"
     ]
    },
    {
     "name": "stdout",
     "output_type": "stream",
     "text": [
      "READ OK: 2016-10-14_id9643_slide1_column1_slice4_100x-ScMOS_0020-1_Detailed.csv\nREAD OK: 2016-10-14_id9643_slide1_column1_slice4_100x-ScMOS_0021-1_Detailed.csv\nERROR Odd: 2016-10-14_id9643_slide1_column1_slice4_100x-ScMOS_0021-1_Detailed.csv\nREAD OK: 2016-10-14_id9643_slide1_column1_slice4_100x-ScMOS_0031-1_Detailed.csv\n"
     ]
    },
    {
     "name": "stdout",
     "output_type": "stream",
     "text": [
      "READ OK: 2016-10-14_id9643_slide1_column1_slice4_100x-ScMOS_0036-1_Detailed.csv\nREAD OK: 2016-10-14_id9643_slide1_column1_slice4_100x-ScMOS_0040-1_Detailed.csv\nERROR Odd: 2016-10-14_id9643_slide1_column1_slice4_100x-ScMOS_0040-1_Detailed.csv\nREAD OK: 2016-10-14_id9643_slide1_column1_slice4_100x-ScMOS_0040-2_Detailed.csv\n"
     ]
    },
    {
     "name": "stdout",
     "output_type": "stream",
     "text": [
      "READ OK: 2016-10-14_id9643_slide1_column1_slice4_100x-ScMOS_0042-1_Detailed.csv\nERROR Odd: 2016-10-14_id9643_slide1_column1_slice4_100x-ScMOS_0042-1_Detailed.csv\nREAD OK: 2016-10-14_id9643_slide1_column1_slice4_100x-ScMOS_0044-1_Detailed.csv\nREAD OK: 2016-10-14_id9643_slide1_column1_slice4_100x-ScMOS_0046-1_Detailed.csv\nERROR Odd: 2016-10-14_id9643_slide1_column1_slice4_100x-ScMOS_0046-1_Detailed.csv\n"
     ]
    },
    {
     "name": "stdout",
     "output_type": "stream",
     "text": [
      "READ OK: 2016-10-14_id9643_slide1_column1_slice5_100x-ScMOS_0002-1_Detailed.csv\nERROR Odd: 2016-10-14_id9643_slide1_column1_slice5_100x-ScMOS_0002-1_Detailed.csv\nREAD OK: 2016-10-14_id9643_slide1_column1_slice5_100x-ScMOS_0004-1_Detailed.csv\nERROR Odd: 2016-10-14_id9643_slide1_column1_slice5_100x-ScMOS_0004-1_Detailed.csv\nREAD OK: 2016-10-14_id9643_slide1_column1_slice5_100x-ScMOS_0005-1_Detailed.csv\nERROR Odd: 2016-10-14_id9643_slide1_column1_slice5_100x-ScMOS_0005-1_Detailed.csv\n"
     ]
    },
    {
     "name": "stdout",
     "output_type": "stream",
     "text": [
      "READ OK: 2016-10-14_id9643_slide1_column1_slice5_100x-ScMOS_0008-1_Detailed.csv\nREAD OK: 2016-10-14_id9645_slide1_column1_slice1_100x-ScMOS_016-1_Detailed.csv\nERROR Odd: 2016-10-14_id9645_slide1_column1_slice1_100x-ScMOS_016-1_Detailed.csv\nREAD OK: 2016-10-14_id9645_slide1_column1_slice1_100x-ScMOS_017-1_Detailed.csv\nERROR Odd: 2016-10-14_id9645_slide1_column1_slice1_100x-ScMOS_017-1_Detailed.csv"
     ]
    },
    {
     "name": "stdout",
     "output_type": "stream",
     "text": [
      "\nREAD OK: 2016-10-14_id9645_slide1_column1_slice1_100x-ScMOS_018-1_Detailed.csv\nREAD OK: 2016-10-14_id9645_slide1_column1_slice1_100x-ScMOS_019-1_Detailed.csv\n"
     ]
    },
    {
     "name": "stdout",
     "output_type": "stream",
     "text": [
      "READ OK: 2016-10-14_id9645_slide1_column1_slice1_100x-ScMOS_019-2_Detailed.csv\nREAD OK: 2016-10-14_id9645_slide1_column1_slice1_100x-ScMOS_031-1_Detailed.csv\n"
     ]
    },
    {
     "name": "stdout",
     "output_type": "stream",
     "text": [
      "READ OK: 2016-10-14_id9645_slide1_column1_slice1_100x-ScMOS_037-1_Detailed.csv\nERROR Odd: 2016-10-14_id9645_slide1_column1_slice1_100x-ScMOS_037-1_Detailed.csv\nREAD OK: 2016-10-14_id9645_slide1_column1_slice1_100x-ScMOS_041-1_Detailed.csv\nERROR Odd: 2016-10-14_id9645_slide1_column1_slice1_100x-ScMOS_041-1_Detailed.csv\nREAD OK: 2016-10-14_id9645_slide1_column1_slice1_100x-ScMOS_051-1_Detailed.csv\n"
     ]
    },
    {
     "name": "stdout",
     "output_type": "stream",
     "text": [
      "ERROR Odd: 2016-10-14_id9645_slide1_column1_slice1_100x-ScMOS_051-1_Detailed.csv\nREAD OK: 2016-10-14_id9645_slide1_column1_slice1_100x-ScMOS_051-2_Detailed.csv\nERROR Odd: 2016-10-14_id9645_slide1_column1_slice1_100x-ScMOS_051-2_Detailed.csv\nREAD OK: 2016-10-14_id9645_slide1_column1_slice1_100x-ScMOS_052-1_Detailed.csv\n"
     ]
    },
    {
     "name": "stdout",
     "output_type": "stream",
     "text": [
      "READ OK: 2016-10-14_id9645_slide1_column1_slice1_100x-ScMOS_053-1_Detailed.csv\nREAD OK: 2016-10-14_id9645_slide1_column1_slice1_100x-ScMOS_054-1_Detailed.csv\nREAD OK: 2016-10-14_id9645_slide1_column1_slice1_100x-ScMOS_056-1_Detailed.csv\n"
     ]
    },
    {
     "name": "stdout",
     "output_type": "stream",
     "text": [
      "READ OK: 2016-10-14_id9645_slide1_column1_slice1_100x-ScMOS_057-1_Detailed.csv\nERROR Odd: 2016-10-14_id9645_slide1_column1_slice1_100x-ScMOS_057-1_Detailed.csv\nREAD OK: 2016-10-14_id9645_slide1_column1_slice1_100x-ScMOS_066-1_Detailed.csv\nERROR Odd: 2016-10-14_id9645_slide1_column1_slice1_100x-ScMOS_066-1_Detailed.csv\n"
     ]
    },
    {
     "name": "stdout",
     "output_type": "stream",
     "text": [
      "READ OK: 2016-10-14_id9645_slide1_column1_slice1_100x-ScMOS_071-1_Detailed.csv\nREAD OK: 2016-10-14_id9645_slide1_column1_slice1_100x-ScMOS_075-1_Detailed.csv\nERROR Odd: 2016-10-14_id9645_slide1_column1_slice1_100x-ScMOS_075-1_Detailed.csv\n"
     ]
    },
    {
     "name": "stdout",
     "output_type": "stream",
     "text": [
      "READ OK: 2016-10-14_id9645_slide1_column1_slice1_100x-ScMOS_078-1_Detailed.csv\nERROR Odd: 2016-10-14_id9645_slide1_column1_slice1_100x-ScMOS_078-1_Detailed.csv\nREAD OK: 2016-10-14_id9645_slide1_column1_slice2_100x-ScMOS_0001-1_Detailed.csv\n"
     ]
    },
    {
     "name": "stdout",
     "output_type": "stream",
     "text": [
      "READ OK: 2016-10-14_id9645_slide1_column1_slice2_100x-ScMOS_0006-1_Detailed.csv\nREAD OK: 2016-10-14_id9645_slide1_column1_slice2_100x-ScMOS_0012-1_Detailed.csv\nERROR Odd: 2016-10-14_id9645_slide1_column1_slice2_100x-ScMOS_0012-1_Detailed.csv\n"
     ]
    },
    {
     "name": "stdout",
     "output_type": "stream",
     "text": [
      "READ OK: 2016-10-14_id9645_slide1_column1_slice2_100x-ScMOS_0015-1_Detailed.csv\nREAD OK: 2016-10-14_id9645_slide1_column1_slice2_100x-ScMOS_0016-1_Detailed.csv\nERROR Odd: 2016-10-14_id9645_slide1_column1_slice2_100x-ScMOS_0016-1_Detailed.csv\nREAD OK: 2016-10-14_id9645_slide1_column1_slice2_100x-ScMOS_0021-1_Detailed.csv"
     ]
    },
    {
     "name": "stdout",
     "output_type": "stream",
     "text": [
      "\nERROR Odd: 2016-10-14_id9645_slide1_column1_slice2_100x-ScMOS_0021-1_Detailed.csv\nREAD OK: 2016-10-14_id9645_slide1_column1_slice2_100x-ScMOS_0022-1_Detailed.csv\nERROR Odd: 2016-10-14_id9645_slide1_column1_slice2_100x-ScMOS_0022-1_Detailed.csv\nREAD OK: 2016-10-14_id9645_slide1_column1_slice2_100x-ScMOS_0024-1_Detailed.csv"
     ]
    },
    {
     "name": "stdout",
     "output_type": "stream",
     "text": [
      "\nERROR Odd: 2016-10-14_id9645_slide1_column1_slice2_100x-ScMOS_0024-1_Detailed.csv\nREAD OK: 2016-10-14_id9645_slide1_column1_slice2_100x-ScMOS_0026-1_Detailed.csv\nERROR Odd: 2016-10-14_id9645_slide1_column1_slice2_100x-ScMOS_0026-1_Detailed.csv\n"
     ]
    },
    {
     "name": "stdout",
     "output_type": "stream",
     "text": [
      "READ OK: 2016-10-14_id9645_slide1_column1_slice2_100x-ScMOS_0039-1_Detailed.csv\nREAD OK: 2016-10-19_id9645_slide1_column1_slice3_100x-ScMOS_0012-1_Detailed.csv\nERROR Odd: 2016-10-19_id9645_slide1_column1_slice3_100x-ScMOS_0012-1_Detailed.csv\n"
     ]
    },
    {
     "name": "stdout",
     "output_type": "stream",
     "text": [
      "READ OK: 2016-10-19_id9645_slide1_column1_slice3_100x-ScMOS_0013-1_Detailed.csv\nERROR Odd: 2016-10-19_id9645_slide1_column1_slice3_100x-ScMOS_0013-1_Detailed.csv\nREAD OK: 2016-10-19_id9645_slide1_column1_slice3_100x-ScMOS_0034-1_Detailed.csv\n"
     ]
    },
    {
     "name": "stdout",
     "output_type": "stream",
     "text": [
      "READ OK: 2016-10-19_id9645_slide1_column1_slice3_100x-ScMOS_0039-1_Detailed.csv\nREAD OK: 2016-10-19_id9645_slide1_column1_slice3_100x-ScMOS_0078-1_Detailed.csv\nERROR Odd: 2016-10-19_id9645_slide1_column1_slice3_100x-ScMOS_0078-1_Detailed.csv\n"
     ]
    },
    {
     "name": "stdout",
     "output_type": "stream",
     "text": [
      "READ OK: 2016-10-19_id9645_slide1_column1_slice4_100x-ScMOS_0000-1_Detailed.csv\nREAD OK: 2016-10-19_id9645_slide1_column1_slice4_100x-ScMOS_0001-1_Detailed.csv\n"
     ]
    },
    {
     "name": "stdout",
     "output_type": "stream",
     "text": [
      "READ OK: 2016-10-19_id9645_slide1_column1_slice4_100x-ScMOS_0014-1_Detailed.csv\nERROR Odd: 2016-10-19_id9645_slide1_column1_slice4_100x-ScMOS_0014-1_Detailed.csv\nREAD OK: 2016-10-19_id9645_slide1_column1_slice4_100x-ScMOS_0019-1_Detailed.csv\n"
     ]
    },
    {
     "name": "stdout",
     "output_type": "stream",
     "text": [
      "READ OK: 2016-10-19_id9645_slide1_column1_slice4_100x-ScMOS_0021-1_Detailed.csv\nERROR Odd: 2016-10-19_id9645_slide1_column1_slice4_100x-ScMOS_0021-1_Detailed.csv\nREAD OK: 2016-10-19_id9645_slide1_column1_slice4_100x-ScMOS_0022-1_Detailed.csv\n"
     ]
    },
    {
     "name": "stdout",
     "output_type": "stream",
     "text": [
      "READ OK: 2016-10-19_id9645_slide1_column1_slice4_100x-ScMOS_0028-1_Detailed.csv\nERROR Odd: 2016-10-19_id9645_slide1_column1_slice4_100x-ScMOS_0028-1_Detailed.csv\nREAD OK: 2016-10-19_id9645_slide1_column1_slice4_100x-ScMOS_0029-1_Detailed.csv\n"
     ]
    },
    {
     "name": "stdout",
     "output_type": "stream",
     "text": [
      "READ OK: 2016-10-19_id9645_slide1_column1_slice4_100x-ScMOS_0031-1_Detailed.csv\nREAD OK: 2016-10-19_id9645_slide1_column1_slice4_100x-ScMOS_0051-1_Detailed.csv\n"
     ]
    },
    {
     "name": "stdout",
     "output_type": "stream",
     "text": [
      "READ OK: 2016-10-19_id9645_slide1_column1_slice5_100x-ScMOS_0001-1_Detailed.csv\nERROR Odd: 2016-10-19_id9645_slide1_column1_slice5_100x-ScMOS_0001-1_Detailed.csv\nREAD OK: 2016-10-19_id9645_slide1_column1_slice5_100x-ScMOS_0003-1_Detailed.csv\nERROR Odd: 2016-10-19_id9645_slide1_column1_slice5_100x-ScMOS_0003-1_Detailed.csv\n"
     ]
    },
    {
     "name": "stdout",
     "output_type": "stream",
     "text": [
      "READ OK: 2016-10-19_id9645_slide1_column1_slice5_100x-ScMOS_0020-1_Detailed.csv\nERROR Odd: 2016-10-19_id9645_slide1_column1_slice5_100x-ScMOS_0020-1_Detailed.csv\nREAD OK: 2016-10-19_id9645_slide1_column1_slice5_100x-ScMOS_0024-1_Detailed.csv\n"
     ]
    },
    {
     "name": "stdout",
     "output_type": "stream",
     "text": [
      "READ OK: 2016-10-19_id9645_slide1_column1_slice5_100x-ScMOS_0033-1_Detailed.csv\n"
     ]
    },
    {
     "name": "stdout",
     "output_type": "stream",
     "text": [
      "READ OK: 2016-10-19_id9645_slide1_column1_slice5_100x-ScMOS_0037-1_Detailed.csv\nERROR Odd: 2016-10-19_id9645_slide1_column1_slice5_100x-ScMOS_0037-1_Detailed.csv\n"
     ]
    },
    {
     "name": "stdout",
     "output_type": "stream",
     "text": [
      "READ OK: 2016-10-19_id9645_slide1_column1_slice5_100x-ScMOS_0043-1_Detailed.csv\nERROR Odd: 2016-10-19_id9645_slide1_column1_slice5_100x-ScMOS_0043-1_Detailed.csv\n"
     ]
    },
    {
     "name": "stdout",
     "output_type": "stream",
     "text": [
      "READ OK: 2016-10-19_id9645_slide1_column1_slice5_100x-ScMOS_0047-1_Detailed.csv\nERROR Odd: 2016-10-19_id9645_slide1_column1_slice5_100x-ScMOS_0047-1_Detailed.csv\n"
     ]
    },
    {
     "name": "stdout",
     "output_type": "stream",
     "text": [
      "READ OK: 2016-10-19_id9645_slide1_column1_slice5_100x-ScMOS_0048-1_Detailed.csv\nERROR Odd: 2016-10-19_id9645_slide1_column1_slice5_100x-ScMOS_0048-1_Detailed.csv\n"
     ]
    },
    {
     "name": "stdout",
     "output_type": "stream",
     "text": [
      "READ OK: 2016-10-19_id9645_slide1_column1_slice6_100x-ScMOS_0018-1_Detailed.csv\n"
     ]
    },
    {
     "name": "stdout",
     "output_type": "stream",
     "text": [
      "READ OK: 2016-10-19_id9645_slide1_column1_slice6_100x-ScMOS_0019-1_Detailed.csv\n"
     ]
    },
    {
     "name": "stdout",
     "output_type": "stream",
     "text": [
      "READ OK: 2016-10-19_id9645_slide1_column1_slice6_100x-ScMOS_0027-1_Detailed.csv\n"
     ]
    },
    {
     "name": "stdout",
     "output_type": "stream",
     "text": [
      "READ OK: 2016-10-19_id9645_slide1_column1_slice6_100x-ScMOS_0027-2_Detailed.csv\n"
     ]
    },
    {
     "name": "stdout",
     "output_type": "stream",
     "text": [
      "READ OK: 2016-10-19_id9645_slide1_column2_slice1_100x-ScMOS_0000_Detailed.csv\n"
     ]
    },
    {
     "name": "stdout",
     "output_type": "stream",
     "text": [
      "READ OK: 2016-10-20_id9645_slide1_column2_slice2_100x-ScMOS_0000-1_Detailed.csv\nERROR Odd: 2016-10-20_id9645_slide1_column2_slice2_100x-ScMOS_0000-1_Detailed.csv\n"
     ]
    },
    {
     "name": "stdout",
     "output_type": "stream",
     "text": [
      "READ OK: 2016-10-20_id9645_slide1_column2_slice2_100x-ScMOS_0014-1_Detailed.csv\n"
     ]
    },
    {
     "name": "stdout",
     "output_type": "stream",
     "text": [
      "READ OK: 2016-10-20_id9645_slide1_column2_slice2_100x-ScMOS_0021-1_Detailed.csv\n"
     ]
    },
    {
     "name": "stdout",
     "output_type": "stream",
     "text": [
      "READ OK: 2016-10-20_id9645_slide1_column2_slice3_100x-ScMOS_027-1_Detailed.csv\nERROR Odd: 2016-10-20_id9645_slide1_column2_slice3_100x-ScMOS_027-1_Detailed.csv\nREAD OK: 2016-10-20_id9645_slide1_column2_slice3_100x-ScMOS_028-1_Detailed.csv\nERROR Odd: 2016-10-20_id9645_slide1_column2_slice3_100x-ScMOS_028-1_Detailed.csv\n"
     ]
    },
    {
     "name": "stdout",
     "output_type": "stream",
     "text": [
      "READ OK: 2016-10-20_id9645_slide1_column2_slice3_100x-ScMOS_032-1_Detailed.csv\nREAD OK: 2016-10-20_id9645_slide1_column2_slice3_100x-ScMOS_036-1_Detailed.csv\nERROR Odd: 2016-10-20_id9645_slide1_column2_slice3_100x-ScMOS_036-1_Detailed.csv\n"
     ]
    },
    {
     "name": "stdout",
     "output_type": "stream",
     "text": [
      "READ OK: 2016-10-20_id9645_slide1_column2_slice3_100x-ScMOS_049-1_Detailed.csv\nREAD OK: 2016-10-20_id9645_slide1_column2_slice4_100x-ScMOS_001-1_Detailed.csv\n"
     ]
    },
    {
     "name": "stdout",
     "output_type": "stream",
     "text": [
      "READ OK: 2016-10-20_id9645_slide1_column2_slice4_100x-ScMOS_002-1_Detailed.csv\nREAD OK: 2016-10-20_id9645_slide1_column2_slice4_100x-ScMOS_015-1_Detailed.csv\n"
     ]
    },
    {
     "name": "stdout",
     "output_type": "stream",
     "text": [
      "ERROR Odd: 2016-10-20_id9645_slide1_column2_slice4_100x-ScMOS_015-1_Detailed.csv\nREAD OK: 2016-10-20_id9839_slide2_column1_slice1_100x-ScMOS_0000-1_Detailed.csv\n"
     ]
    },
    {
     "name": "stdout",
     "output_type": "stream",
     "text": [
      "ERROR Odd: 2016-10-20_id9839_slide2_column1_slice1_100x-ScMOS_0000-1_Detailed.csv\nREAD OK: 2016-10-20_id9839_slide2_column1_slice1_100x-ScMOS_0028-1_Detailed.csv\n"
     ]
    },
    {
     "name": "stdout",
     "output_type": "stream",
     "text": [
      "READ OK: 2016-10-20_id9839_slide2_column1_slice1_100x-ScMOS_0032-1_Detailed.csv\n"
     ]
    },
    {
     "name": "stdout",
     "output_type": "stream",
     "text": [
      "READ OK: 2016-10-20_id9839_slide2_column1_slice2_100x-ScMOS_0022-1_Detailed.csv\n"
     ]
    },
    {
     "name": "stdout",
     "output_type": "stream",
     "text": [
      "READ OK: 2016-10-20_id9839_slide2_column1_slice2_100x-ScMOS_0047-1_Detailed.csv\n"
     ]
    },
    {
     "name": "stdout",
     "output_type": "stream",
     "text": [
      "READ OK: 2016-10-20_id9839_slide2_column1_slice2_100x-ScMOS_0048-1_Detailed.csv\n"
     ]
    },
    {
     "name": "stdout",
     "output_type": "stream",
     "text": [
      "READ OK: 2016-10-20_id9839_slide2_column1_slice2_100x-ScMOS_0053-1_Detailed.csv\nERROR Odd: 2016-10-20_id9839_slide2_column1_slice2_100x-ScMOS_0053-1_Detailed.csv\n"
     ]
    },
    {
     "name": "stdout",
     "output_type": "stream",
     "text": [
      "READ OK: 2016-10-20_id9839_slide2_column1_slice2_100x-ScMOS_0069-1_Detailed.csv\n"
     ]
    },
    {
     "name": "stdout",
     "output_type": "stream",
     "text": [
      "READ OK: 2016-10-20_id9839_slide2_column1_slice2_100x-ScMOS_0071-1_Detailed.csv\nERROR Odd: 2016-10-20_id9839_slide2_column1_slice2_100x-ScMOS_0071-1_Detailed.csv\n"
     ]
    },
    {
     "name": "stdout",
     "output_type": "stream",
     "text": [
      "READ OK: 2016-10-21_id9839_slide1_column1_slice2_100x-ScMOS_0052-1_Detailed.csv\nERROR Odd: 2016-10-21_id9839_slide1_column1_slice2_100x-ScMOS_0052-1_Detailed.csv\n"
     ]
    },
    {
     "name": "stdout",
     "output_type": "stream",
     "text": [
      "READ OK: 2016-10-21_id9839_slide1_column1_slice3_100x-ScMOS_034-1_Detailed.csv\n"
     ]
    },
    {
     "name": "stdout",
     "output_type": "stream",
     "text": [
      "READ OK: 2016-10-21_id9839_slide1_column1_slice3_100x-ScMOS_038-1_Detailed.csv\nERROR Odd: 2016-10-21_id9839_slide1_column1_slice3_100x-ScMOS_038-1_Detailed.csv\n"
     ]
    },
    {
     "name": "stdout",
     "output_type": "stream",
     "text": [
      "READ OK: 2016-10-21_id9839_slide1_column1_slice3_100x-ScMOS_053-1_Detailed.csv\nERROR Odd: 2016-10-21_id9839_slide1_column1_slice3_100x-ScMOS_053-1_Detailed.csv\n"
     ]
    },
    {
     "name": "stdout",
     "output_type": "stream",
     "text": [
      "READ OK: 2016-10-21_id9839_slide1_column1_slice3_100x-ScMOS_058-1_Detailed.csv\n"
     ]
    },
    {
     "name": "stdout",
     "output_type": "stream",
     "text": [
      "READ OK: 2016-10-21_id9839_slide1_column1_slice4_100x-ScMOS_0028-1_Detailed.csv\nERROR Odd: 2016-10-21_id9839_slide1_column1_slice4_100x-ScMOS_0028-1_Detailed.csv\n"
     ]
    },
    {
     "name": "stdout",
     "output_type": "stream",
     "text": [
      "READ OK: 2016-10-21_id9839_slide1_column1_slice4_100x-ScMOS_0036-1_Detailed.csv\n"
     ]
    },
    {
     "name": "stdout",
     "output_type": "stream",
     "text": [
      "READ OK: 2016-10-21_id9839_slide1_column1_slice4_100x-ScMOS_0075-1_Detailed.csv\n"
     ]
    },
    {
     "name": "stdout",
     "output_type": "stream",
     "text": [
      "READ OK: 2016-10-21_id9839_slide1_column1_slice4_100x-ScMOS_0077-1_Detailed.csv\nERROR Odd: 2016-10-21_id9839_slide1_column1_slice4_100x-ScMOS_0077-1_Detailed.csv\n"
     ]
    },
    {
     "name": "stdout",
     "output_type": "stream",
     "text": [
      "READ OK: 2016-10-21_id9839_slide2_column1_slice3_100x-ScMOS_0025-1_Detailed.csv\nERROR Odd: 2016-10-21_id9839_slide2_column1_slice3_100x-ScMOS_0025-1_Detailed.csv\n"
     ]
    },
    {
     "name": "stdout",
     "output_type": "stream",
     "text": [
      "READ OK: 2016-10-21_id9839_slide2_column1_slice3_100x-ScMOS_0026-1_Detailed.csv\n"
     ]
    },
    {
     "name": "stdout",
     "output_type": "stream",
     "text": [
      "READ OK: 2016-10-21_id9839_slide2_column1_slice3_100x-ScMOS_0053-1_Detailed.csv\n"
     ]
    },
    {
     "name": "stdout",
     "output_type": "stream",
     "text": [
      "READ OK: 2016-10-21_id9839_slide2_column1_slice3_100x-ScMOS_0069-1_Detailed.csv\n"
     ]
    },
    {
     "name": "stdout",
     "output_type": "stream",
     "text": [
      "READ OK: 2016-10-21_id9839_slide2_column1_slice3_100x-ScMOS_0070-1_Detailed.csv\n"
     ]
    },
    {
     "name": "stdout",
     "output_type": "stream",
     "text": [
      "READ OK: 2016-10-21_id9839_slide2_column1_slice3_100x-ScMOS_0072-1_Detailed.csv\nERROR Odd: 2016-10-21_id9839_slide2_column1_slice3_100x-ScMOS_0072-1_Detailed.csv\n"
     ]
    },
    {
     "name": "stdout",
     "output_type": "stream",
     "text": [
      "READ OK: 2016-10-21_id9839_slide2_column1_slice3_100x-ScMOS_0092-1_Detailed.csv\n"
     ]
    },
    {
     "name": "stdout",
     "output_type": "stream",
     "text": [
      "READ OK: 2016-10-21_id9839_slide2_column1_slice3_100x-ScMOS_0095-1_Detailed.csv\nERROR Odd: 2016-10-21_id9839_slide2_column1_slice3_100x-ScMOS_0095-1_Detailed.csv\n"
     ]
    },
    {
     "name": "stdout",
     "output_type": "stream",
     "text": [
      "READ OK: 2016-10-21_id9839_slide2_column2_slice1_100x-ScMOS_0038-1_Detailed.csv\nERROR Odd: 2016-10-21_id9839_slide2_column2_slice1_100x-ScMOS_0038-1_Detailed.csv\n"
     ]
    },
    {
     "name": "stdout",
     "output_type": "stream",
     "text": [
      "READ OK: 2016-10-21_id9839_slide2_column2_slice1_100x-ScMOS_0039-1_Detailed.csv\n"
     ]
    },
    {
     "name": "stdout",
     "output_type": "stream",
     "text": [
      "READ OK: 2016-10-21_id9839_slide2_column2_slice1_100x-ScMOS_0067-1_Detailed.csv\n"
     ]
    },
    {
     "name": "stdout",
     "output_type": "stream",
     "text": [
      "READ OK: 2016-10-21_id9839_slide2_column2_slice1_100x-ScMOS_0068-1_Detailed.csv\nERROR Odd: 2016-10-21_id9839_slide2_column2_slice1_100x-ScMOS_0068-1_Detailed.csv\n"
     ]
    },
    {
     "name": "stdout",
     "output_type": "stream",
     "text": [
      "READ OK: 2016-10-21_id9839_slide2_column2_slice1_100x-ScMOS_0069-1_Detailed.csv\nERROR Odd: 2016-10-21_id9839_slide2_column2_slice1_100x-ScMOS_0069-1_Detailed.csv\n"
     ]
    },
    {
     "name": "stdout",
     "output_type": "stream",
     "text": [
      "READ OK: 2016-10-21_id9839_slide2_column2_slice2_100x-ScMOS_0009-1_Detailed.csv\nERROR Odd: 2016-10-21_id9839_slide2_column2_slice2_100x-ScMOS_0009-1_Detailed.csv\n"
     ]
    },
    {
     "name": "stdout",
     "output_type": "stream",
     "text": [
      "READ OK: 2016-10-21_id9839_slide2_column2_slice2_100x-ScMOS_0048-1_Detailed.csv\nERROR Odd: 2016-10-21_id9839_slide2_column2_slice2_100x-ScMOS_0048-1_Detailed.csv\n"
     ]
    },
    {
     "name": "stdout",
     "output_type": "stream",
     "text": [
      "READ OK: 2016-10-21_id9839_slide2_column2_slice2_100x-ScMOS_0061-1_Detailed.csv\n"
     ]
    },
    {
     "name": "stdout",
     "output_type": "stream",
     "text": [
      "READ OK: 2016-10-21_id9839_slide2_column2_slice2_100x-ScMOS_0083-1_Detailed.csv\nERROR Odd: 2016-10-21_id9839_slide2_column2_slice2_100x-ScMOS_0083-1_Detailed.csv\n"
     ]
    },
    {
     "name": "stdout",
     "output_type": "stream",
     "text": [
      "READ OK: 2016-10-21_id9839_slide2_column2_slice3_100x-ScMOS_0054-1_Detailed.csv\n"
     ]
    },
    {
     "name": "stdout",
     "output_type": "stream",
     "text": [
      "READ OK: 2016-10-21_id9839_slide2_column2_slice3_100x-ScMOS_0056-1_Detailed.csv\nERROR Odd: 2016-10-21_id9839_slide2_column2_slice3_100x-ScMOS_0056-1_Detailed.csv\n"
     ]
    },
    {
     "name": "stdout",
     "output_type": "stream",
     "text": [
      "READ OK: 2016-10-22_id9842_slide1_column1_slice1_100x-ScMOS_0009-1_Detailed.csv\n"
     ]
    },
    {
     "name": "stdout",
     "output_type": "stream",
     "text": [
      "READ OK: 2016-10-22_id9842_slide1_column1_slice1_100x-ScMOS_0011-1_Detailed.csv\n"
     ]
    },
    {
     "name": "stdout",
     "output_type": "stream",
     "text": [
      "READ OK: 2016-10-22_id9842_slide1_column1_slice1_100x-ScMOS_0033-1_Detailed.csv\n"
     ]
    },
    {
     "name": "stdout",
     "output_type": "stream",
     "text": [
      "READ OK: 2016-10-22_id9842_slide1_column1_slice1_100x-ScMOS_0045-1_Detailed.csv\n"
     ]
    },
    {
     "name": "stdout",
     "output_type": "stream",
     "text": [
      "READ OK: 2016-10-22_id9842_slide1_column1_slice1_100x-ScMOS_0062-1_Detailed.csv\nERROR Odd: 2016-10-22_id9842_slide1_column1_slice1_100x-ScMOS_0062-1_Detailed.csv\n"
     ]
    },
    {
     "name": "stdout",
     "output_type": "stream",
     "text": [
      "READ OK: 2016-10-22_id9842_slide1_column1_slice1_100x-ScMOS_0088-1_Detailed.csv\nERROR Odd: 2016-10-22_id9842_slide1_column1_slice1_100x-ScMOS_0088-1_Detailed.csv\n"
     ]
    },
    {
     "name": "stdout",
     "output_type": "stream",
     "text": [
      "READ OK: 2016-10-22_id9842_slide1_column1_slice2_100x-ScMOS_0018-1_Detailed.csv\nERROR Odd: 2016-10-22_id9842_slide1_column1_slice2_100x-ScMOS_0018-1_Detailed.csv\n"
     ]
    },
    {
     "name": "stdout",
     "output_type": "stream",
     "text": [
      "READ OK: 2016-10-22_id9842_slide1_column1_slice2_100x-ScMOS_0036-1_Detailed.csv\nERROR Odd: 2016-10-22_id9842_slide1_column1_slice2_100x-ScMOS_0036-1_Detailed.csv\n"
     ]
    },
    {
     "name": "stdout",
     "output_type": "stream",
     "text": [
      "READ OK: 2016-10-22_id9842_slide1_column1_slice2_100x-ScMOS_0038-1_Detailed.csv\n"
     ]
    },
    {
     "name": "stdout",
     "output_type": "stream",
     "text": [
      "READ OK: 2016-10-22_id9842_slide1_column1_slice2_100x-ScMOS_0052-1_Detailed.csv\n"
     ]
    },
    {
     "name": "stdout",
     "output_type": "stream",
     "text": [
      "READ OK: 2016-10-22_id9842_slide1_column1_slice3_100x-ScMOS_0008-1_Detailed.csv\n"
     ]
    },
    {
     "name": "stdout",
     "output_type": "stream",
     "text": [
      "READ OK: 2016-10-22_id9842_slide1_column1_slice3_100x-ScMOS_0035-1_Detailed.csv\n"
     ]
    },
    {
     "name": "stdout",
     "output_type": "stream",
     "text": [
      "READ OK: 2016-10-22_id9842_slide1_column1_slice3_100x-ScMOS_0039-1_Detailed.csv\n"
     ]
    },
    {
     "name": "stdout",
     "output_type": "stream",
     "text": [
      "READ OK: 2016-10-22_id9842_slide1_column1_slice3_100x-ScMOS_0050-1_Detailed.csv\n"
     ]
    },
    {
     "name": "stdout",
     "output_type": "stream",
     "text": [
      "READ OK: 2016-10-22_id9842_slide1_column1_slice3_100x-ScMOS_0055-1_Detailed.csv\nERROR Odd: 2016-10-22_id9842_slide1_column1_slice3_100x-ScMOS_0055-1_Detailed.csv\n"
     ]
    },
    {
     "name": "stdout",
     "output_type": "stream",
     "text": [
      "READ OK: 2016-10-22_id9842_slide1_column2_slice2_100x-ScMOS_0019-1_Detailed.csv\nERROR Odd: 2016-10-22_id9842_slide1_column2_slice2_100x-ScMOS_0019-1_Detailed.csv\n"
     ]
    },
    {
     "name": "stdout",
     "output_type": "stream",
     "text": [
      "READ OK: 2016-10-22_id9842_slide1_column2_slice2_100x-ScMOS_0061-1_Detailed.csv\n"
     ]
    },
    {
     "name": "stdout",
     "output_type": "stream",
     "text": [
      "READ OK: 2016-10-22_id9842_slide1_column2_slice2_100x-ScMOS_0075-1_Detailed.csv\nERROR Odd: 2016-10-22_id9842_slide1_column2_slice2_100x-ScMOS_0075-1_Detailed.csv\n"
     ]
    },
    {
     "name": "stdout",
     "output_type": "stream",
     "text": [
      "READ OK: 2016-10-22_id9842_slide1_column2_slice2_100x-ScMOS_0076-1_Detailed.csv\n"
     ]
    },
    {
     "name": "stdout",
     "output_type": "stream",
     "text": [
      "READ OK: 2016-10-22_id9842_slide1_column2_slice2_100x-ScMOS_0079-1_Detailed.csv\nERROR Odd: 2016-10-22_id9842_slide1_column2_slice2_100x-ScMOS_0079-1_Detailed.csv\n"
     ]
    },
    {
     "name": "stdout",
     "output_type": "stream",
     "text": [
      "READ OK: 2016-10-22_id9842_slide1_column2_slice2_100x-ScMOS_0080-1_Detailed.csv\nERROR Odd: 2016-10-22_id9842_slide1_column2_slice2_100x-ScMOS_0080-1_Detailed.csv\n"
     ]
    },
    {
     "name": "stdout",
     "output_type": "stream",
     "text": [
      "READ OK: 2016-10-22_id9842_slide1_column2_slice2_100x-ScMOS_0095-1_Detailed.csv\nERROR Odd: 2016-10-22_id9842_slide1_column2_slice2_100x-ScMOS_0095-1_Detailed.csv\n"
     ]
    },
    {
     "name": "stdout",
     "output_type": "stream",
     "text": [
      "READ OK: 2016-10-22_id9842_slide1_column2_slice2_100x-ScMOS_0096-1_Detailed.csv\nERROR Odd: 2016-10-22_id9842_slide1_column2_slice2_100x-ScMOS_0096-1_Detailed.csv\n"
     ]
    },
    {
     "name": "stdout",
     "output_type": "stream",
     "text": [
      "READ OK: 2016-10-22_id9842_slide1_column2_slice2_100x-ScMOS_0098-1_Detailed.csv\n"
     ]
    },
    {
     "name": "stdout",
     "output_type": "stream",
     "text": [
      "READ OK: 2016-10-22_id9842_slide1_column2_slice2_100x-ScMOS_0099-1_Detailed.csv\nERROR Odd: 2016-10-22_id9842_slide1_column2_slice2_100x-ScMOS_0099-1_Detailed.csv\n"
     ]
    },
    {
     "name": "stdout",
     "output_type": "stream",
     "text": [
      "READ OK: 2016-10-22_id9842_slide1_column2_slice3_100x-ScMOS_0018-1_Detailed.csv\n"
     ]
    },
    {
     "name": "stdout",
     "output_type": "stream",
     "text": [
      "READ OK: 2016-10-22_id9842_slide1_column2_slice3_100x-ScMOS_0036-2_Detailed.csv\nERROR Odd: 2016-10-22_id9842_slide1_column2_slice3_100x-ScMOS_0036-2_Detailed.csv\n"
     ]
    },
    {
     "name": "stdout",
     "output_type": "stream",
     "text": [
      "READ OK: 2016-10-22_id9842_slide1_column2_slice4_100x-ScMOS_0000-1_Detailed.csv\n"
     ]
    },
    {
     "name": "stdout",
     "output_type": "stream",
     "text": [
      "READ OK: 2016-10-22_id9842_slide1_column2_slice4_100x-ScMOS_0001-1_Detailed.csv\n"
     ]
    },
    {
     "name": "stdout",
     "output_type": "stream",
     "text": [
      "READ OK: 2016-10-22_id9842_slide1_column2_slice4_100x-ScMOS_0013-1_Detailed.csv\n"
     ]
    },
    {
     "name": "stdout",
     "output_type": "stream",
     "text": [
      "READ OK: 2016-10-22_id9842_slide1_column2_slice4_100x-ScMOS_0022-1_Detailed.csv\nERROR Odd: 2016-10-22_id9842_slide1_column2_slice4_100x-ScMOS_0022-1_Detailed.csv\n"
     ]
    },
    {
     "name": "stdout",
     "output_type": "stream",
     "text": [
      "READ OK: 2016-10-22_id9842_slide1_column2_slice4_100x-ScMOS_0035-1_Detailed.csv\n"
     ]
    },
    {
     "name": "stdout",
     "output_type": "stream",
     "text": [
      "READ OK: 2016-10-24_id9842_slide1_column2_slice5_100x-ScMOS_0021-1_Detailed.csv\nERROR Odd: 2016-10-24_id9842_slide1_column2_slice5_100x-ScMOS_0021-1_Detailed.csv\n"
     ]
    },
    {
     "name": "stdout",
     "output_type": "stream",
     "text": [
      "READ OK: 2016-10-24_id9842_slide1_column2_slice5_100x-ScMOS_0039-1_Detailed.csv\n"
     ]
    },
    {
     "name": "stdout",
     "output_type": "stream",
     "text": [
      "READ OK: 2016-10-24_id9842_slide1_column2_slice5_100x-ScMOS_0043-1_Detailed.csv\nERROR Odd: 2016-10-24_id9842_slide1_column2_slice5_100x-ScMOS_0043-1_Detailed.csv\n"
     ]
    },
    {
     "name": "stdout",
     "output_type": "stream",
     "text": [
      "READ OK: 2016-10-24_id9842_slide1_column2_slice5_100x-ScMOS_0046-1_Detailed.csv\n"
     ]
    },
    {
     "name": "stdout",
     "output_type": "stream",
     "text": [
      "READ OK: 2016-10-24_id9842_slide1_column2_slice5_100x-ScMOS_0060-1_Detailed.csv\nERROR Odd: 2016-10-24_id9842_slide1_column2_slice5_100x-ScMOS_0060-1_Detailed.csv\n"
     ]
    },
    {
     "name": "stdout",
     "output_type": "stream",
     "text": [
      "READ OK: 2016-10-24_id9842_slide1_column2_slice5_100x-ScMOS_0069-1_Detailed.csv\n"
     ]
    },
    {
     "name": "stdout",
     "output_type": "stream",
     "text": [
      "READ OK: MIN_2016-07-12_id9384_slide1_column2_slice6-100x_all-1_Detailed.csv\n"
     ]
    },
    {
     "name": "stdout",
     "output_type": "stream",
     "text": [
      "READ OK: MIN_2016-07-12_id9384_slide1_column2_slice6-100x_all-2_Detailed.csv\nERROR Odd: MIN_2016-07-12_id9384_slide1_column2_slice6-100x_all-2_Detailed.csv\n"
     ]
    },
    {
     "name": "stdout",
     "output_type": "stream",
     "text": [
      "READ OK: MIN_2016-07-12_id9384_slide1_column2_slice6-100x_all-3_Detailed.csv\nERROR Odd: MIN_2016-07-12_id9384_slide1_column2_slice6-100x_all-3_Detailed.csv\n"
     ]
    },
    {
     "name": "stdout",
     "output_type": "stream",
     "text": [
      "READ OK: MIN_2016-07-12_id9384_slide1_column2_slice6-100x_all-4_Detailed.csv\n"
     ]
    },
    {
     "name": "stdout",
     "output_type": "stream",
     "text": [
      "READ OK: MIN_2016-07-12_id9384_slide1_column2_slice6-100x_all-5_Detailed.csv\n"
     ]
    },
    {
     "name": "stdout",
     "output_type": "stream",
     "text": [
      "READ OK: MIN_2016-07-27_id9384_slide1_column2_slice7_100x_L3_n1-stitch3D-1_Detailed.csv\nERROR Odd: MIN_2016-07-27_id9384_slide1_column2_slice7_100x_L3_n1-stitch3D-1_Detailed.csv\n"
     ]
    },
    {
     "name": "stdout",
     "output_type": "stream",
     "text": [
      "READ OK: MIN_2016-07-27_id9384_slide1_column2_slice7_100x_L3_n1-stitch3D-2_Detailed.csv\n"
     ]
    },
    {
     "name": "stdout",
     "output_type": "stream",
     "text": [
      "READ OK: MIN_2016-07-27_id9384_slide1_column2_slice7_100x_L3_n1-stitch3D-3_Detailed.csv\nERROR Odd: MIN_2016-07-27_id9384_slide1_column2_slice7_100x_L3_n1-stitch3D-3_Detailed.csv\n"
     ]
    },
    {
     "name": "stdout",
     "output_type": "stream",
     "text": [
      "READ OK: MIN_2016-07-27_id9384_slide1_column2_slice7_100x_L5_n1-stitch3D-1_Detailed.csv\n"
     ]
    },
    {
     "name": "stdout",
     "output_type": "stream",
     "text": [
      "READ OK: MIN_2016-07-27_id9384_slide1_column2_slice7_100x_L5_n1-stitch3D-2_Detailed.csv\n"
     ]
    },
    {
     "name": "stdout",
     "output_type": "stream",
     "text": [
      "READ OK: MIN_2016-07-27_id9384_slide1_column2_slice7_100x_L5_n1-stitch3D-3_Detailed.csv\nERROR Odd: MIN_2016-07-27_id9384_slide1_column2_slice7_100x_L5_n1-stitch3D-3_Detailed.csv\n"
     ]
    },
    {
     "name": "stdout",
     "output_type": "stream",
     "text": [
      "READ OK: MIN_2016-07-28_id9382_slide1_column1_slice3_100x_L5_n1-stitch3D-1_Detailed.csv\nERROR Odd: MIN_2016-07-28_id9382_slide1_column1_slice3_100x_L5_n1-stitch3D-1_Detailed.csv\n"
     ]
    },
    {
     "name": "stdout",
     "output_type": "stream",
     "text": [
      "READ OK: MIN_2016-07-28_id9382_slide1_column1_slice3_100x_L5_n1-stitch3D-2_Detailed.csv\nERROR Odd: MIN_2016-07-28_id9382_slide1_column1_slice3_100x_L5_n1-stitch3D-2_Detailed.csv\n"
     ]
    },
    {
     "name": "stdout",
     "output_type": "stream",
     "text": [
      "READ OK: MIN_2016-07-28_id9382_slide1_column1_slice3_100x_L5_n1-stitch3D-3_Detailed.csv\nERROR Odd: MIN_2016-07-28_id9382_slide1_column1_slice3_100x_L5_n1-stitch3D-3_Detailed.csv\n"
     ]
    },
    {
     "name": "stdout",
     "output_type": "stream",
     "text": [
      "READ OK: MIN_2016-07-28_id9382_slide1_column1_slice3_100x_L5_n1-stitch3D-4_Detailed.csv\n"
     ]
    },
    {
     "name": "stdout",
     "output_type": "stream",
     "text": [
      "READ OK: MIN_2016-07-28_id9382_slide1_column2_slice2_100x_L5_n1-stitch3D-1_Detailed.csv\n"
     ]
    },
    {
     "name": "stdout",
     "output_type": "stream",
     "text": [
      "READ OK: MIN_2016-07-28_id9382_slide1_column2_slice2_100x_L5_n1-stitch3D-2_Detailed.csv\nERROR Odd: MIN_2016-07-28_id9382_slide1_column2_slice2_100x_L5_n1-stitch3D-2_Detailed.csv\n"
     ]
    },
    {
     "name": "stdout",
     "output_type": "stream",
     "text": [
      "READ OK: MIN_2016-07-28_id9382_slide1_column2_slice2_100x_L5_n1-stitch3D-3_Detailed.csv\n"
     ]
    },
    {
     "name": "stdout",
     "output_type": "stream",
     "text": [
      "READ OK: MIN_2016-07-28_id9382_slide1_column2_slice3_100x_L5_n1-stitch3D-1_Detailed.csv\n"
     ]
    },
    {
     "name": "stdout",
     "output_type": "stream",
     "text": [
      "READ OK: MIN_2016-07-28_id9382_slide1_column2_slice3_100x_L5_n1-stitch3D-2_Detailed.csv\nERROR Odd: MIN_2016-07-28_id9382_slide1_column2_slice3_100x_L5_n1-stitch3D-2_Detailed.csv\n"
     ]
    },
    {
     "name": "stdout",
     "output_type": "stream",
     "text": [
      "READ OK: MIN_2016-07-28_id9382_slide1_column2_slice3_100x_L5_n2-stitch3D-1_Detailed.csv\nERROR Odd: MIN_2016-07-28_id9382_slide1_column2_slice3_100x_L5_n2-stitch3D-1_Detailed.csv\n"
     ]
    },
    {
     "name": "stdout",
     "output_type": "stream",
     "text": [
      "READ OK: MIN_2016-07-28_id9382_slide1_column2_slice3_100x_L5_n2-stitch3D-2_Detailed.csv\n"
     ]
    },
    {
     "name": "stdout",
     "output_type": "stream",
     "text": [
      "READ OK: MIN_2016-07-28_id9382_slide1_column2_slice3_100x_L5_n2-stitch3D-3_Detailed.csv\n"
     ]
    },
    {
     "name": "stdout",
     "output_type": "stream",
     "text": [
      "READ OK: MIN_2016-07-28_id9382_slide1_column2_slice3_100x_L5_n2-stitch3D-4_Detailed.csv\nERROR Odd: MIN_2016-07-28_id9382_slide1_column2_slice3_100x_L5_n2-stitch3D-4_Detailed.csv\n"
     ]
    },
    {
     "name": "stdout",
     "output_type": "stream",
     "text": [
      "READ OK: MIN_2016-07-29_id9384_slide1_column1_slice6_100x_L5_n1-stitch3D-1_Detailed.csv\n"
     ]
    },
    {
     "name": "stdout",
     "output_type": "stream",
     "text": [
      "READ OK: MIN_2016-07-29_id9384_slide1_column1_slice6_100x_L5_n1-stitch3D-2_Detailed.csv\n"
     ]
    },
    {
     "name": "stdout",
     "output_type": "stream",
     "text": [
      "READ OK: MIN_2016-07-29_id9384_slide1_column1_slice6_100x_L5_n1-stitch3D-3_Detailed.csv\n"
     ]
    },
    {
     "name": "stdout",
     "output_type": "stream",
     "text": [
      "READ OK: MIN_2016-07-29_id9384_slide1_column1_slice6_100x_L5_n1-stitch3D-4_Detailed.csv\n"
     ]
    },
    {
     "name": "stdout",
     "output_type": "stream",
     "text": [
      "READ OK: MIN_2016-07-29_id9384_slide1_column1_slice6_100x_L5_n1-stitch3D-5_Detailed.csv\nERROR Odd: MIN_2016-07-29_id9384_slide1_column1_slice6_100x_L5_n1-stitch3D-5_Detailed.csv\n"
     ]
    },
    {
     "name": "stdout",
     "output_type": "stream",
     "text": [
      "READ OK: MIN_2016-07-29_id9384_slide1_column1_slice6_100x_L5_n1-stitch3D-6_Detailed.csv\nERROR Odd: MIN_2016-07-29_id9384_slide1_column1_slice6_100x_L5_n1-stitch3D-6_Detailed.csv\n"
     ]
    },
    {
     "name": "stdout",
     "output_type": "stream",
     "text": [
      "READ OK: MIN_2016-09-12_id9843_slide1_column1_slice2_100x-NOstitch3D-1to33-1_Detailed.csv\nERROR Odd: MIN_2016-09-12_id9843_slide1_column1_slice2_100x-NOstitch3D-1to33-1_Detailed.csv\n"
     ]
    },
    {
     "name": "stdout",
     "output_type": "stream",
     "text": [
      "READ OK: MIN_2016-09-12_id9843_slide1_column1_slice2_100x-NOstitch3D-1to33-2_Detailed.csv\n"
     ]
    },
    {
     "name": "stdout",
     "output_type": "stream",
     "text": [
      "READ OK: MIN_2016-09-12_id9843_slide1_column1_slice2_100x-NOstitch3D-1to33-3_Detailed.csv\n"
     ]
    },
    {
     "name": "stdout",
     "output_type": "stream",
     "text": [
      "READ OK: MIN_2016-09-12_id9843_slide1_column1_slice2_100x-NOstitch3D-1to33-4_Detailed.csv\n"
     ]
    },
    {
     "name": "stdout",
     "output_type": "stream",
     "text": [
      "READ OK: MIN_2016-09-12_id9843_slide1_column1_slice2_100x-NOstitch3D-1to33-5_Detailed.csv\nERROR Odd: MIN_2016-09-12_id9843_slide1_column1_slice2_100x-NOstitch3D-1to33-5_Detailed.csv\n"
     ]
    },
    {
     "name": "stdout",
     "output_type": "stream",
     "text": [
      "READ OK: MIN_2016-09-12_id9843_slide1_column1_slice2_100x-NOstitch3D-1to33-6_Detailed.csv\nERROR Odd: MIN_2016-09-12_id9843_slide1_column1_slice2_100x-NOstitch3D-1to33-6_Detailed.csv\n"
     ]
    },
    {
     "name": "stdout",
     "output_type": "stream",
     "text": [
      "READ OK: MIN_2016-09-12_id9843_slide1_column1_slice2_100x-NOstitch3D-1to33-7_Detailed.csv\nERROR Odd: MIN_2016-09-12_id9843_slide1_column1_slice2_100x-NOstitch3D-1to33-7_Detailed.csv\n"
     ]
    },
    {
     "name": "stdout",
     "output_type": "stream",
     "text": [
      "READ OK: MIN_2016-09-12_id9843_slide1_column2_slice2_0030_w1TRANS Camera-1_Detailed.csv\n"
     ]
    },
    {
     "name": "stdout",
     "output_type": "stream",
     "text": [
      "READ OK: MIN_2016-09-12_id9843_slide1_column2_slice2_0051_w1TRANS Camera-1_Detailed.csv\nERROR Odd: MIN_2016-09-12_id9843_slide1_column2_slice2_0051_w1TRANS Camera-1_Detailed.csv\n"
     ]
    },
    {
     "name": "stdout",
     "output_type": "stream",
     "text": [
      "READ OK: MIN_2016-09-12_id9843_slide1_column2_slice2_0052_w1TRANS Camera-1_Detailed.csv\nERROR Odd: MIN_2016-09-12_id9843_slide1_column2_slice2_0052_w1TRANS Camera-1_Detailed.csv\n"
     ]
    },
    {
     "name": "stdout",
     "output_type": "stream",
     "text": [
      "READ OK: MIN_2016-09-12_id9843_slide1_column2_slice2_0060_w1TRANS Camera-1_Detailed.csv\nERROR Odd: MIN_2016-09-12_id9843_slide1_column2_slice2_0060_w1TRANS Camera-1_Detailed.csv\n"
     ]
    },
    {
     "name": "stdout",
     "output_type": "stream",
     "text": [
      "READ OK: MIN_2016-09-12_id9843_slide1_column2_slice2_0062_w1TRANS Camera-1_Detailed.csv\nERROR Odd: MIN_2016-09-12_id9843_slide1_column2_slice2_0062_w1TRANS Camera-1_Detailed.csv\n"
     ]
    },
    {
     "name": "stdout",
     "output_type": "stream",
     "text": [
      "READ OK: MIN_2016-09-12_id9843_slide1_column2_slice2_0064_w1TRANS Camera-1_Detailed.csv\nERROR Odd: MIN_2016-09-12_id9843_slide1_column2_slice2_0064_w1TRANS Camera-1_Detailed.csv\n"
     ]
    },
    {
     "name": "stdout",
     "output_type": "stream",
     "text": [
      "READ OK: MIN_2016-09-12_id9843_slide1_column2_slice2_0065_w1TRANS Camera-1_Detailed.csv\n"
     ]
    },
    {
     "name": "stdout",
     "output_type": "stream",
     "text": [
      "READ OK: MIN_2016-09-13_id9644_slide1_column2_slice3_0039_w1TRANS Camera-1_Detailed.csv\nERROR Odd: MIN_2016-09-13_id9644_slide1_column2_slice3_0039_w1TRANS Camera-1_Detailed.csv\n"
     ]
    },
    {
     "name": "stdout",
     "output_type": "stream",
     "text": [
      "READ OK: MIN_2016-09-13_id9644_slide1_column2_slice3_0046_w1TRANS Camera-1_Detailed.csv\n"
     ]
    },
    {
     "name": "stdout",
     "output_type": "stream",
     "text": [
      "READ OK: MIN_2016-09-13_id9644_slide1_column2_slice3_0058_w1TRANS Camera-1_Detailed.csv\nERROR Odd: MIN_2016-09-13_id9644_slide1_column2_slice3_0058_w1TRANS Camera-1_Detailed.csv\n"
     ]
    },
    {
     "name": "stdout",
     "output_type": "stream",
     "text": [
      "READ OK: MIN_2016-09-13_id9843_slide1_column1_slice3_0031_w1TRANS Camera-1_Detailed.csv\n"
     ]
    },
    {
     "name": "stdout",
     "output_type": "stream",
     "text": [
      "READ OK: MIN_2016-09-13_id9843_slide1_column1_slice3_0036_w1TRANS Camera-1_Detailed.csv\nERROR Odd: MIN_2016-09-13_id9843_slide1_column1_slice3_0036_w1TRANS Camera-1_Detailed.csv\n"
     ]
    },
    {
     "name": "stdout",
     "output_type": "stream",
     "text": [
      "READ OK: MIN_2016-09-13_id9843_slide1_column1_slice3_0039_w1TRANS Camera-1_Detailed.csv\nERROR Odd: MIN_2016-09-13_id9843_slide1_column1_slice3_0039_w1TRANS Camera-1_Detailed.csv\n"
     ]
    },
    {
     "name": "stdout",
     "output_type": "stream",
     "text": [
      "READ OK: MIN_2016-09-13_id9843_slide1_column1_slice3_0042_w1TRANS Camera-1_Detailed.csv\n"
     ]
    },
    {
     "name": "stdout",
     "output_type": "stream",
     "text": [
      "READ OK: MIN_2016-09-13_id9843_slide1_column1_slice3_0043_w1TRANS Camera-1_Detailed.csv\nERROR Odd: MIN_2016-09-13_id9843_slide1_column1_slice3_0043_w1TRANS Camera-1_Detailed.csv\n"
     ]
    },
    {
     "name": "stdout",
     "output_type": "stream",
     "text": [
      "READ OK: MIN_2016-09-13_id9843_slide1_column1_slice3_0044_w1TRANS Camera-1_Detailed.csv\n"
     ]
    },
    {
     "name": "stdout",
     "output_type": "stream",
     "text": [
      "READ OK: MIN_2016-09-13_id9843_slide1_column1_slice3_0047_w1TRANS Camera-1_Detailed.csv\nERROR Odd: MIN_2016-09-13_id9843_slide1_column1_slice3_0047_w1TRANS Camera-1_Detailed.csv\n"
     ]
    },
    {
     "name": "stdout",
     "output_type": "stream",
     "text": [
      "READ OK: MIN_2016-09-13_id9843_slide1_column1_slice3_0048_w1TRANS Camera-1_Detailed.csv\n"
     ]
    },
    {
     "name": "stdout",
     "output_type": "stream",
     "text": [
      "READ OK: MIN_2016-09-13_id9843_slide1_column1_slice3_0051_w1TRANS Camera-1_Detailed.csv\n"
     ]
    },
    {
     "name": "stdout",
     "output_type": "stream",
     "text": [
      "READ OK: MIN_2016-09-13_id9843_slide1_column1_slice3_0053_w1TRANS Camera-1_Detailed.csv\nERROR Odd: MIN_2016-09-13_id9843_slide1_column1_slice3_0053_w1TRANS Camera-1_Detailed.csv\n"
     ]
    },
    {
     "name": "stdout",
     "output_type": "stream",
     "text": [
      "READ OK: MIN_2016-09-13_id9843_slide1_column1_slice3_0057_w1TRANS Camera-1_Detailed.csv\nERROR Odd: MIN_2016-09-13_id9843_slide1_column1_slice3_0057_w1TRANS Camera-1_Detailed.csv\n"
     ]
    },
    {
     "name": "stdout",
     "output_type": "stream",
     "text": [
      "READ OK: MIN_2016-09-13_id9843_slide1_column1_slice3_0060_w1TRANS Camera-1_Detailed.csv\n"
     ]
    },
    {
     "name": "stdout",
     "output_type": "stream",
     "text": [
      "READ OK: MIN_2016-09-13_id9843_slide1_column1_slice3_0069_w1TRANS Camera-1_Detailed.csv\nERROR Odd: MIN_2016-09-13_id9843_slide1_column1_slice3_0069_w1TRANS Camera-1_Detailed.csv\n"
     ]
    },
    {
     "name": "stdout",
     "output_type": "stream",
     "text": [
      "READ OK: MIN_2016-09-13_id9843_slide1_column1_slice3_0070_w1TRANS Camera-1_Detailed.csv\nERROR Odd: MIN_2016-09-13_id9843_slide1_column1_slice3_0070_w1TRANS Camera-1_Detailed.csv\n"
     ]
    },
    {
     "name": "stdout",
     "output_type": "stream",
     "text": [
      "READ OK: MIN_2016-09-13_id9843_slide1_column1_slice4_0078_w1TRANS Camera-1_Detailed.csv\nERROR Odd: MIN_2016-09-13_id9843_slide1_column1_slice4_0078_w1TRANS Camera-1_Detailed.csv\n"
     ]
    },
    {
     "name": "stdout",
     "output_type": "stream",
     "text": [
      "READ OK: MIN_2016-09-13_id9843_slide1_column1_slice4_0085_w1TRANS Camera-1_Detailed.csv\nERROR Odd: MIN_2016-09-13_id9843_slide1_column1_slice4_0085_w1TRANS Camera-1_Detailed.csv\n"
     ]
    },
    {
     "name": "stdout",
     "output_type": "stream",
     "text": [
      "READ OK: MIN_2016-09-13_id9843_slide1_column1_slice4_0089_w1TRANS Camera-1_Detailed.csv\n"
     ]
    },
    {
     "name": "stdout",
     "output_type": "stream",
     "text": [
      "READ OK: MIN_2016-09-13_id9843_slide1_column1_slice4_0093_w1TRANS Camera-1_Detailed.csv\nERROR Odd: MIN_2016-09-13_id9843_slide1_column1_slice4_0093_w1TRANS Camera-1_Detailed.csv\n"
     ]
    },
    {
     "name": "stdout",
     "output_type": "stream",
     "text": [
      "READ OK: MIN_2016-09-13_id9843_slide1_column1_slice5_0045_w1TRANS Camera-1_Detailed.csv\n"
     ]
    },
    {
     "name": "stdout",
     "output_type": "stream",
     "text": [
      "READ OK: MIN_2016-09-13_id9843_slide1_column1_slice5_0048_w1TRANS Camera-1_Detailed.csv\n"
     ]
    },
    {
     "name": "stdout",
     "output_type": "stream",
     "text": [
      "READ OK: MIN_2016-09-13_id9843_slide1_column1_slice5_0050_w1TRANS Camera-1_Detailed.csv\n"
     ]
    },
    {
     "name": "stdout",
     "output_type": "stream",
     "text": [
      "READ OK: MIN_2016-09-13_id9843_slide1_column1_slice5_0055_w1TRANS Camera-1_Detailed.csv\n"
     ]
    },
    {
     "name": "stdout",
     "output_type": "stream",
     "text": [
      "READ OK: MIN_2016-09-13_id9843_slide1_column1_slice5_0056_w1TRANS Camera-1_Detailed.csv\nERROR Odd: MIN_2016-09-13_id9843_slide1_column1_slice5_0056_w1TRANS Camera-1_Detailed.csv\n"
     ]
    },
    {
     "name": "stdout",
     "output_type": "stream",
     "text": [
      "READ OK: MIN_2016-09-13_id9843_slide1_column1_slice5_0057_w1TRANS Camera-1_Detailed.csv\nERROR Odd: MIN_2016-09-13_id9843_slide1_column1_slice5_0057_w1TRANS Camera-1_Detailed.csv\n"
     ]
    },
    {
     "name": "stdout",
     "output_type": "stream",
     "text": [
      "READ OK: MIN_2016-09-13_id9843_slide1_column1_slice5_0058_w1TRANS Camera-1_Detailed.csv\nERROR Odd: MIN_2016-09-13_id9843_slide1_column1_slice5_0058_w1TRANS Camera-1_Detailed.csv\n"
     ]
    },
    {
     "name": "stdout",
     "output_type": "stream",
     "text": [
      "READ OK: MIN_2016-09-13_id9843_slide1_column1_slice5_0068_w1TRANS Camera-1_Detailed.csv\nERROR Odd: MIN_2016-09-13_id9843_slide1_column1_slice5_0068_w1TRANS Camera-1_Detailed.csv\n"
     ]
    },
    {
     "name": "stdout",
     "output_type": "stream",
     "text": [
      "READ OK: MIN_2016-09-13_id9843_slide1_column2_slice3_0086_w1TRANS Camera-1_Detailed.csv\nERROR Odd: MIN_2016-09-13_id9843_slide1_column2_slice3_0086_w1TRANS Camera-1_Detailed.csv\n"
     ]
    },
    {
     "name": "stdout",
     "output_type": "stream",
     "text": [
      "READ OK: MIN_2016-09-13_id9843_slide1_column2_slice3_0091_w1TRANS Camera-1_Detailed.csv\nERROR Odd: MIN_2016-09-13_id9843_slide1_column2_slice3_0091_w1TRANS Camera-1_Detailed.csv\n"
     ]
    },
    {
     "name": "stdout",
     "output_type": "stream",
     "text": [
      "READ OK: MIN_2016-09-13_id9843_slide1_column2_slice3_0099_w1TRANS Camera-1_Detailed.csv\nERROR Odd: MIN_2016-09-13_id9843_slide1_column2_slice3_0099_w1TRANS Camera-1_Detailed.csv\n"
     ]
    },
    {
     "name": "stdout",
     "output_type": "stream",
     "text": [
      "READ OK: MIN_2016-09-13_id9843_slide1_column2_slice3_0100_w1TRANS Camera-1_Detailed.csv\n"
     ]
    },
    {
     "name": "stdout",
     "output_type": "stream",
     "text": [
      "READ OK: MIN_2016-09-13_id9843_slide1_column2_slice3_0101_w1TRANS Camera-1_Detailed.csv\nERROR Odd: MIN_2016-09-13_id9843_slide1_column2_slice3_0101_w1TRANS Camera-1_Detailed.csv\n"
     ]
    },
    {
     "name": "stdout",
     "output_type": "stream",
     "text": [
      "READ OK: MIN_2016-09-13_id9843_slide1_column2_slice3_0102_w1TRANS Camera-1_Detailed.csv\nERROR Odd: MIN_2016-09-13_id9843_slide1_column2_slice3_0102_w1TRANS Camera-1_Detailed.csv\n"
     ]
    },
    {
     "name": "stdout",
     "output_type": "stream",
     "text": [
      "READ OK: MIN_2016-09-13_id9843_slide1_column2_slice3_0105_w1TRANS Camera-1_Detailed.csv\n"
     ]
    },
    {
     "name": "stdout",
     "output_type": "stream",
     "text": [
      "READ OK: MIN_2016-09-13_id9843_slide1_column2_slice3_0106_w1TRANS Camera-1_Detailed.csv\nERROR Odd: MIN_2016-09-13_id9843_slide1_column2_slice3_0106_w1TRANS Camera-1_Detailed.csv\n"
     ]
    },
    {
     "name": "stdout",
     "output_type": "stream",
     "text": [
      "READ OK: MIN_2016-09-13_id9843_slide1_column2_slice3_0112_w1TRANS Camera-1_Detailed.csv\n"
     ]
    },
    {
     "name": "stdout",
     "output_type": "stream",
     "text": [
      "READ OK: MIN_2016-09-13_id9843_slide1_column2_slice3_0114_w1TRANS Camera-1_Detailed.csv\nERROR Odd: MIN_2016-09-13_id9843_slide1_column2_slice3_0114_w1TRANS Camera-1_Detailed.csv\n"
     ]
    },
    {
     "name": "stdout",
     "output_type": "stream",
     "text": [
      "READ OK: MIN_2016-09-13_id9843_slide1_column2_slice3_0115_w1TRANS Camera-1_Detailed.csv\nERROR Odd: MIN_2016-09-13_id9843_slide1_column2_slice3_0115_w1TRANS Camera-1_Detailed.csv\n"
     ]
    },
    {
     "name": "stdout",
     "output_type": "stream",
     "text": [
      "READ OK: MIN_2016-09-13_id9843_slide1_column2_slice3_0119_w1TRANS Camera-1_Detailed.csv\n"
     ]
    },
    {
     "name": "stdout",
     "output_type": "stream",
     "text": [
      "READ OK: MIN_2016-09-13_id9843_slide1_column2_slice3_0120_w1TRANS Camera-1_Detailed.csv\nERROR Odd: MIN_2016-09-13_id9843_slide1_column2_slice3_0120_w1TRANS Camera-1_Detailed.csv\n"
     ]
    },
    {
     "name": "stdout",
     "output_type": "stream",
     "text": [
      "READ OK: MIN_2016-09-13_id9843_slide1_column2_slice4_0056_w1TRANS Camera-1_Detailed.csv\nERROR Odd: MIN_2016-09-13_id9843_slide1_column2_slice4_0056_w1TRANS Camera-1_Detailed.csv\n"
     ]
    },
    {
     "name": "stdout",
     "output_type": "stream",
     "text": [
      "READ OK: MIN_2016-09-13_id9843_slide1_column2_slice4_0057_w1TRANS Camera-1_Detailed.csv\nERROR Odd: MIN_2016-09-13_id9843_slide1_column2_slice4_0057_w1TRANS Camera-1_Detailed.csv\n"
     ]
    },
    {
     "name": "stdout",
     "output_type": "stream",
     "text": [
      "READ OK: MIN_2016-09-13_id9843_slide1_column2_slice4_0072_w1TRANS Camera-1_Detailed.csv\nERROR Odd: MIN_2016-09-13_id9843_slide1_column2_slice4_0072_w1TRANS Camera-1_Detailed.csv\n"
     ]
    },
    {
     "name": "stdout",
     "output_type": "stream",
     "text": [
      "READ OK: MIN_2016-09-13_id9843_slide1_column2_slice4_0073_w1TRANS Camera-1_Detailed.csv\nERROR Odd: MIN_2016-09-13_id9843_slide1_column2_slice4_0073_w1TRANS Camera-1_Detailed.csv\n"
     ]
    },
    {
     "name": "stdout",
     "output_type": "stream",
     "text": [
      "READ OK: MIN_2016-09-13_id9843_slide1_column2_slice4_0074_w1TRANS Camera-1_Detailed.csv\nERROR Odd: MIN_2016-09-13_id9843_slide1_column2_slice4_0074_w1TRANS Camera-1_Detailed.csv\n"
     ]
    },
    {
     "name": "stdout",
     "output_type": "stream",
     "text": [
      "READ OK: MIN_2016-09-13_id9843_slide1_column2_slice4_0081_w1TRANS Camera-1_Detailed.csv\nERROR Odd: MIN_2016-09-13_id9843_slide1_column2_slice4_0081_w1TRANS Camera-1_Detailed.csv\n"
     ]
    },
    {
     "name": "stdout",
     "output_type": "stream",
     "text": [
      "READ OK: MIN_2016-09-13_id9843_slide1_column2_slice4_0084_w1TRANS Camera-1_Detailed.csv\n"
     ]
    },
    {
     "name": "stdout",
     "output_type": "stream",
     "text": [
      "READ OK: MIN_2016-09-13_id9843_slide1_column2_slice4_0086_w1TRANS Camera-1_Detailed.csv\n"
     ]
    },
    {
     "name": "stdout",
     "output_type": "stream",
     "text": [
      "READ OK: MIN_2016-09-13_id9843_slide1_column2_slice4_0091_w1TRANS Camera-1_Detailed.csv\nERROR Odd: MIN_2016-09-13_id9843_slide1_column2_slice4_0091_w1TRANS Camera-1_Detailed.csv\n"
     ]
    },
    {
     "name": "stdout",
     "output_type": "stream",
     "text": [
      "READ OK: MIN_2016-09-13_id9843_slide1_column2_slice5_0059_w1TRANS Camera-1_Detailed.csv\n"
     ]
    },
    {
     "name": "stdout",
     "output_type": "stream",
     "text": [
      "READ OK: MIN_2016-09-13_id9843_slide1_column2_slice5_0065_w1TRANS Camera-1_Detailed.csv\n"
     ]
    },
    {
     "name": "stdout",
     "output_type": "stream",
     "text": [
      "READ OK: MIN_2016-09-13_id9843_slide1_column2_slice5_0066_w1TRANS Camera-1_Detailed.csv\nERROR Odd: MIN_2016-09-13_id9843_slide1_column2_slice5_0066_w1TRANS Camera-1_Detailed.csv\n"
     ]
    },
    {
     "name": "stdout",
     "output_type": "stream",
     "text": [
      "READ OK: MIN_2016-09-14_id9644_slide1_column1_slice3_0018_w1TRANS Camera-1_Detailed.csv\n"
     ]
    },
    {
     "name": "stdout",
     "output_type": "stream",
     "text": [
      "READ OK: MIN_2016-09-14_id9644_slide1_column1_slice3_0034_w1TRANS Camera-1_Detailed.csv\nERROR Odd: MIN_2016-09-14_id9644_slide1_column1_slice3_0034_w1TRANS Camera-1_Detailed.csv\n"
     ]
    },
    {
     "name": "stdout",
     "output_type": "stream",
     "text": [
      "READ OK: MIN_2016-09-14_id9644_slide1_column1_slice3_0035_w1TRANS Camera-1_Detailed.csv\n"
     ]
    },
    {
     "name": "stdout",
     "output_type": "stream",
     "text": [
      "READ OK: MIN_2016-09-14_id9644_slide1_column1_slice3_0036_w1TRANS Camera-1_Detailed.csv\n"
     ]
    },
    {
     "name": "stdout",
     "output_type": "stream",
     "text": [
      "READ OK: MIN_2016-09-16_id9644_slide1_column1_slice3_0049_w1TRANS Camera-1_Detailed.csv\n"
     ]
    },
    {
     "name": "stdout",
     "output_type": "stream",
     "text": [
      "READ OK: MIN_2016-09-16_id9644_slide1_column1_slice3_0052_w1TRANS Camera-1_Detailed.csv\nERROR Odd: MIN_2016-09-16_id9644_slide1_column1_slice3_0052_w1TRANS Camera-1_Detailed.csv\n"
     ]
    },
    {
     "name": "stdout",
     "output_type": "stream",
     "text": [
      "READ OK: MIN_2016-09-16_id9644_slide1_column1_slice3_0061_w1TRANS Camera-1_Detailed.csv\nERROR Odd: MIN_2016-09-16_id9644_slide1_column1_slice3_0061_w1TRANS Camera-1_Detailed.csv\n"
     ]
    },
    {
     "name": "stdout",
     "output_type": "stream",
     "text": [
      "READ OK: MIN_2016-09-16_id9644_slide1_column1_slice3_0069_w1TRANS Camera-1_Detailed.csv\nERROR Odd: MIN_2016-09-16_id9644_slide1_column1_slice3_0069_w1TRANS Camera-1_Detailed.csv\n"
     ]
    },
    {
     "name": "stdout",
     "output_type": "stream",
     "text": [
      "READ OK: MIN_2016-09-16_id9644_slide1_column1_slice3_0078_w1TRANS Camera-1_Detailed.csv\nERROR Odd: MIN_2016-09-16_id9644_slide1_column1_slice3_0078_w1TRANS Camera-1_Detailed.csv\n"
     ]
    },
    {
     "name": "stdout",
     "output_type": "stream",
     "text": [
      "READ OK: MIN_2016-09-16_id9644_slide1_column1_slice3_0088_w1TRANS Camera-1_Detailed.csv\n"
     ]
    },
    {
     "name": "stdout",
     "output_type": "stream",
     "text": [
      "READ OK: MIN_2016-09-16_id9644_slide1_column1_slice3_0089_w1TRANS Camera-1_Detailed.csv\nERROR Odd: MIN_2016-09-16_id9644_slide1_column1_slice3_0089_w1TRANS Camera-1_Detailed.csv\n"
     ]
    },
    {
     "name": "stdout",
     "output_type": "stream",
     "text": [
      "READ OK: MIN_2016-09-16_id9644_slide1_column1_slice3_0115_w1TRANS Camera-1_Detailed.csv\nERROR Odd: MIN_2016-09-16_id9644_slide1_column1_slice3_0115_w1TRANS Camera-1_Detailed.csv\n"
     ]
    },
    {
     "name": "stdout",
     "output_type": "stream",
     "text": [
      "READ OK: MIN_2016-09-16_id9644_slide1_column1_slice3_0116_w1TRANS Camera-1_Detailed.csv\nERROR Odd: MIN_2016-09-16_id9644_slide1_column1_slice3_0116_w1TRANS Camera-1_Detailed.csv\n"
     ]
    },
    {
     "name": "stdout",
     "output_type": "stream",
     "text": [
      "READ OK: MIN_2016-09-16_id9644_slide1_column1_slice5_0003_w1TRANS Camera-1_Detailed.csv\nERROR Odd: MIN_2016-09-16_id9644_slide1_column1_slice5_0003_w1TRANS Camera-1_Detailed.csv\n"
     ]
    },
    {
     "name": "stdout",
     "output_type": "stream",
     "text": [
      "READ OK: MIN_2016-09-16_id9644_slide1_column2_slice5_0038_w1TRANS Camera-1_Detailed.csv\n"
     ]
    },
    {
     "name": "stdout",
     "output_type": "stream",
     "text": [
      "READ OK: MIN_2016-09-19_id9644_slide1_column1_slice5_0097_w1TRANS Camera-1_Detailed.csv\n"
     ]
    },
    {
     "name": "stdout",
     "output_type": "stream",
     "text": [
      "READ OK: MIN_2016-09-19_id9644_slide1_column1_slice5_0098_w1TRANS Camera-1_Detailed.csv\nERROR Odd: MIN_2016-09-19_id9644_slide1_column1_slice5_0098_w1TRANS Camera-1_Detailed.csv\n"
     ]
    },
    {
     "name": "stdout",
     "output_type": "stream",
     "text": [
      "READ OK: MIN_2016-09-19_id9644_slide1_column1_slice5_0114_w1TRANS Camera-1_Detailed.csv\n"
     ]
    },
    {
     "name": "stdout",
     "output_type": "stream",
     "text": [
      "READ OK: MIN_2016-10-11_id9643_slide1_column2_slice3_100x-ScMOS_0000-1_Detailed.csv\nERROR Odd: MIN_2016-10-11_id9643_slide1_column2_slice3_100x-ScMOS_0000-1_Detailed.csv\n"
     ]
    },
    {
     "name": "stdout",
     "output_type": "stream",
     "text": [
      "READ OK: MIN_2016-10-11_id9643_slide1_column2_slice3_100x-ScMOS_0024-1_Detailed.csv\n"
     ]
    },
    {
     "name": "stdout",
     "output_type": "stream",
     "text": [
      "READ OK: MIN_2016-10-11_id9643_slide1_column2_slice3_100x-ScMOS_0025_Detailed.csv\n"
     ]
    },
    {
     "name": "stdout",
     "output_type": "stream",
     "text": [
      "READ OK: MIN_2016-10-11_id9643_slide1_column2_slice4_100x-ScMOS_0022_Detailed.csv\n"
     ]
    },
    {
     "name": "stdout",
     "output_type": "stream",
     "text": [
      "READ OK: MIN_apical_0000_w1TRANS Camera-1_Detailed.csv\nERROR Odd: MIN_apical_0000_w1TRANS Camera-1_Detailed.csv\n"
     ]
    },
    {
     "name": "stdout",
     "output_type": "stream",
     "text": [
      "READ OK: MIN_apical_0001_w1TRANS Camera-1_Detailed.csv\n"
     ]
    },
    {
     "name": "stdout",
     "output_type": "stream",
     "text": [
      "READ OK: MIN_apical_0004_w1TRANS Camera-1_Detailed.csv\n"
     ]
    },
    {
     "name": "stdout",
     "output_type": "stream",
     "text": [
      "READ OK: MIN_basal_0005_w1TRANS Camera-1_Detailed.csv\n"
     ]
    }
   ],
   "source": [
    "import iofunctions as iof\n",
    "import os\n",
    "import pandas as pd\n",
    "\n",
    "datafolder = \"golgi-analysis-data\"\n",
    "\n",
    "# laod all Imaris CSV files\n",
    "spinefiles = iof.list_files(datafolder,\"csv\")\n",
    "\n",
    "MergedSpineData = pd.DataFrame()\n",
    "MergedSpineDataOdd = pd.DataFrame()\n",
    "for spinefile in spinefiles:\n",
    "    location = os.path.join(datafolder, spinefile)\n",
    "    try:\n",
    "        SingleSpineData = pd.read_csv(location, index_col=13)\n",
    "        print(\"READ OK: \"+spinefile)\n",
    "        totalSpineMeasures = len(SingleSpineData[SingleSpineData.Variable == \"Spine Length\"])\n",
    "        totalDendriteLength = SingleSpineData.loc[SingleSpineData[\"Variable\"] == \"Dendrite Length\", \"Value\"].sum()\n",
    "        \n",
    "        # adding a column with 2D Spine Density\n",
    "        SingleSpineData[\"2D Spine Density\"] = 0.5*totalSpineMeasures/totalDendriteLength\n",
    "        SingleSpineData[\"ImageName\"] = spinefile\n",
    "        # check that there are no problems with odd/even spine number\n",
    "        if (totalSpineMeasures % 2 == 0):\n",
    "            # merge all spinefiles in one\n",
    "            MergedSpineData = pd.concat([MergedSpineData, SingleSpineData])\n",
    "        else:\n",
    "            # merge all Odd spinefiles in one, here we can pick only the spine density\n",
    "            print(\"ERROR Odd: \"+spinefile)\n",
    "            MergedSpineDataOdd = pd.concat([MergedSpineDataOdd, SingleSpineData])\n",
    "    except:\n",
    "        print(\"ERROR Format CSV, corrected: \"+spinefile)\n",
    "        f = open(location,\"r+\")\n",
    "        d = f.readlin\n",
    "        es()\n",
    "        print(\"Total lines before to remove Imaris-exported shit of the first 3 lines\")\n",
    "        print(len(d))\n",
    "        f.seek(0)\n",
    "        #remove Imaris-exported shit of the first 3 lines\n",
    "        del d[0:3]\n",
    "        \n",
    "        for i in d:\n",
    "            f.write(i)\n",
    "        f.truncate()\n",
    "        f.close()"
   ]
  },
  {
   "cell_type": "markdown",
   "metadata": {},
   "source": [
    "### Prepare Merged Spines"
   ]
  },
  {
   "cell_type": "code",
   "execution_count": 2,
   "metadata": {},
   "outputs": [
    {
     "name": "stdout",
     "output_type": "stream",
     "text": [
      "\n================\nTotal Spines: 4433\n"
     ]
    },
    {
     "data": {
      "text/html": [
       "<div>\n",
       "<table border=\"1\" class=\"dataframe\">\n",
       "  <thead>\n",
       "    <tr style=\"text-align: right;\">\n",
       "      <th></th>\n",
       "      <th>level_0</th>\n",
       "      <th>index</th>\n",
       "      <th>2D Spine Density</th>\n",
       "      <th>Category</th>\n",
       "      <th>Channel</th>\n",
       "      <th>Collection</th>\n",
       "      <th>Depth</th>\n",
       "      <th>Distance</th>\n",
       "      <th>FilamentID</th>\n",
       "      <th>ID</th>\n",
       "      <th>...</th>\n",
       "      <th>Level</th>\n",
       "      <th>Radius</th>\n",
       "      <th>ReferenceFrame</th>\n",
       "      <th>Time</th>\n",
       "      <th>Type</th>\n",
       "      <th>Unit</th>\n",
       "      <th>Unnamed: 14</th>\n",
       "      <th>Unnamed: 15</th>\n",
       "      <th>Value</th>\n",
       "      <th>Variable</th>\n",
       "    </tr>\n",
       "  </thead>\n",
       "  <tbody>\n",
       "    <tr>\n",
       "      <th>0</th>\n",
       "      <td>0</td>\n",
       "      <td>1.070000e+10</td>\n",
       "      <td>0.33023</td>\n",
       "      <td>Spine</td>\n",
       "      <td>NaN</td>\n",
       "      <td>NaN</td>\n",
       "      <td>0.0</td>\n",
       "      <td>NaN</td>\n",
       "      <td>100000001.0</td>\n",
       "      <td>NaN</td>\n",
       "      <td>...</td>\n",
       "      <td>NaN</td>\n",
       "      <td>NaN</td>\n",
       "      <td>NaN</td>\n",
       "      <td>1</td>\n",
       "      <td>NaN</td>\n",
       "      <td>NaN</td>\n",
       "      <td>NaN</td>\n",
       "      <td>NaN</td>\n",
       "      <td>0.999089</td>\n",
       "      <td>Spine Straightness</td>\n",
       "    </tr>\n",
       "    <tr>\n",
       "      <th>1</th>\n",
       "      <td>2</td>\n",
       "      <td>3.070000e+10</td>\n",
       "      <td>0.33023</td>\n",
       "      <td>Spine</td>\n",
       "      <td>NaN</td>\n",
       "      <td>NaN</td>\n",
       "      <td>0.0</td>\n",
       "      <td>NaN</td>\n",
       "      <td>100000003.0</td>\n",
       "      <td>NaN</td>\n",
       "      <td>...</td>\n",
       "      <td>NaN</td>\n",
       "      <td>NaN</td>\n",
       "      <td>NaN</td>\n",
       "      <td>1</td>\n",
       "      <td>NaN</td>\n",
       "      <td>NaN</td>\n",
       "      <td>NaN</td>\n",
       "      <td>NaN</td>\n",
       "      <td>0.983539</td>\n",
       "      <td>Spine Straightness</td>\n",
       "    </tr>\n",
       "    <tr>\n",
       "      <th>2</th>\n",
       "      <td>4</td>\n",
       "      <td>5.070000e+10</td>\n",
       "      <td>0.33023</td>\n",
       "      <td>Spine</td>\n",
       "      <td>NaN</td>\n",
       "      <td>NaN</td>\n",
       "      <td>0.0</td>\n",
       "      <td>NaN</td>\n",
       "      <td>100000005.0</td>\n",
       "      <td>NaN</td>\n",
       "      <td>...</td>\n",
       "      <td>NaN</td>\n",
       "      <td>NaN</td>\n",
       "      <td>NaN</td>\n",
       "      <td>1</td>\n",
       "      <td>NaN</td>\n",
       "      <td>NaN</td>\n",
       "      <td>NaN</td>\n",
       "      <td>NaN</td>\n",
       "      <td>0.997549</td>\n",
       "      <td>Spine Straightness</td>\n",
       "    </tr>\n",
       "    <tr>\n",
       "      <th>3</th>\n",
       "      <td>6</td>\n",
       "      <td>8.070000e+10</td>\n",
       "      <td>0.33023</td>\n",
       "      <td>Spine</td>\n",
       "      <td>NaN</td>\n",
       "      <td>NaN</td>\n",
       "      <td>0.0</td>\n",
       "      <td>NaN</td>\n",
       "      <td>100000008.0</td>\n",
       "      <td>NaN</td>\n",
       "      <td>...</td>\n",
       "      <td>NaN</td>\n",
       "      <td>NaN</td>\n",
       "      <td>NaN</td>\n",
       "      <td>1</td>\n",
       "      <td>NaN</td>\n",
       "      <td>NaN</td>\n",
       "      <td>NaN</td>\n",
       "      <td>NaN</td>\n",
       "      <td>1.000000</td>\n",
       "      <td>Spine Straightness</td>\n",
       "    </tr>\n",
       "    <tr>\n",
       "      <th>4</th>\n",
       "      <td>8</td>\n",
       "      <td>1.107000e+11</td>\n",
       "      <td>0.33023</td>\n",
       "      <td>Spine</td>\n",
       "      <td>NaN</td>\n",
       "      <td>NaN</td>\n",
       "      <td>0.0</td>\n",
       "      <td>NaN</td>\n",
       "      <td>100000011.0</td>\n",
       "      <td>NaN</td>\n",
       "      <td>...</td>\n",
       "      <td>NaN</td>\n",
       "      <td>NaN</td>\n",
       "      <td>NaN</td>\n",
       "      <td>1</td>\n",
       "      <td>NaN</td>\n",
       "      <td>NaN</td>\n",
       "      <td>NaN</td>\n",
       "      <td>NaN</td>\n",
       "      <td>0.999726</td>\n",
       "      <td>Spine Straightness</td>\n",
       "    </tr>\n",
       "  </tbody>\n",
       "</table>\n",
       "<p>5 rows × 21 columns</p>\n",
       "</div>"
      ],
      "text/plain": [
       "<div>\n",
       "<table border=\"1\" class=\"dataframe\">\n",
       "  <thead>\n",
       "    <tr style=\"text-align: right;\">\n",
       "      <th></th>\n",
       "      <th>level_0</th>\n",
       "      <th>index</th>\n",
       "      <th>2D Spine Density</th>\n",
       "      <th>Category</th>\n",
       "      <th>Channel</th>\n",
       "      <th>Collection</th>\n",
       "      <th>Depth</th>\n",
       "      <th>Distance</th>\n",
       "      <th>FilamentID</th>\n",
       "      <th>ID</th>\n",
       "      <th>...</th>\n",
       "      <th>Level</th>\n",
       "      <th>Radius</th>\n",
       "      <th>ReferenceFrame</th>\n",
       "      <th>Time</th>\n",
       "      <th>Type</th>\n",
       "      <th>Unit</th>\n",
       "      <th>Unnamed: 14</th>\n",
       "      <th>Unnamed: 15</th>\n",
       "      <th>Value</th>\n",
       "      <th>Variable</th>\n",
       "    </tr>\n",
       "  </thead>\n",
       "  <tbody>\n",
       "    <tr>\n",
       "      <th>0</th>\n",
       "      <td>0</td>\n",
       "      <td>1.070000e+10</td>\n",
       "      <td>0.33023</td>\n",
       "      <td>Spine</td>\n",
       "      <td>NaN</td>\n",
       "      <td>NaN</td>\n",
       "      <td>0.0</td>\n",
       "      <td>NaN</td>\n",
       "      <td>100000001.0</td>\n",
       "      <td>NaN</td>\n",
       "      <td>...</td>\n",
       "      <td>NaN</td>\n",
       "      <td>NaN</td>\n",
       "      <td>NaN</td>\n",
       "      <td>1</td>\n",
       "      <td>NaN</td>\n",
       "      <td>NaN</td>\n",
       "      <td>NaN</td>\n",
       "      <td>NaN</td>\n",
       "      <td>0.999089</td>\n",
       "      <td>Spine Straightness</td>\n",
       "    </tr>\n",
       "    <tr>\n",
       "      <th>1</th>\n",
       "      <td>2</td>\n",
       "      <td>3.070000e+10</td>\n",
       "      <td>0.33023</td>\n",
       "      <td>Spine</td>\n",
       "      <td>NaN</td>\n",
       "      <td>NaN</td>\n",
       "      <td>0.0</td>\n",
       "      <td>NaN</td>\n",
       "      <td>100000003.0</td>\n",
       "      <td>NaN</td>\n",
       "      <td>...</td>\n",
       "      <td>NaN</td>\n",
       "      <td>NaN</td>\n",
       "      <td>NaN</td>\n",
       "      <td>1</td>\n",
       "      <td>NaN</td>\n",
       "      <td>NaN</td>\n",
       "      <td>NaN</td>\n",
       "      <td>NaN</td>\n",
       "      <td>0.983539</td>\n",
       "      <td>Spine Straightness</td>\n",
       "    </tr>\n",
       "    <tr>\n",
       "      <th>2</th>\n",
       "      <td>4</td>\n",
       "      <td>5.070000e+10</td>\n",
       "      <td>0.33023</td>\n",
       "      <td>Spine</td>\n",
       "      <td>NaN</td>\n",
       "      <td>NaN</td>\n",
       "      <td>0.0</td>\n",
       "      <td>NaN</td>\n",
       "      <td>100000005.0</td>\n",
       "      <td>NaN</td>\n",
       "      <td>...</td>\n",
       "      <td>NaN</td>\n",
       "      <td>NaN</td>\n",
       "      <td>NaN</td>\n",
       "      <td>1</td>\n",
       "      <td>NaN</td>\n",
       "      <td>NaN</td>\n",
       "      <td>NaN</td>\n",
       "      <td>NaN</td>\n",
       "      <td>0.997549</td>\n",
       "      <td>Spine Straightness</td>\n",
       "    </tr>\n",
       "    <tr>\n",
       "      <th>3</th>\n",
       "      <td>6</td>\n",
       "      <td>8.070000e+10</td>\n",
       "      <td>0.33023</td>\n",
       "      <td>Spine</td>\n",
       "      <td>NaN</td>\n",
       "      <td>NaN</td>\n",
       "      <td>0.0</td>\n",
       "      <td>NaN</td>\n",
       "      <td>100000008.0</td>\n",
       "      <td>NaN</td>\n",
       "      <td>...</td>\n",
       "      <td>NaN</td>\n",
       "      <td>NaN</td>\n",
       "      <td>NaN</td>\n",
       "      <td>1</td>\n",
       "      <td>NaN</td>\n",
       "      <td>NaN</td>\n",
       "      <td>NaN</td>\n",
       "      <td>NaN</td>\n",
       "      <td>1.000000</td>\n",
       "      <td>Spine Straightness</td>\n",
       "    </tr>\n",
       "    <tr>\n",
       "      <th>4</th>\n",
       "      <td>8</td>\n",
       "      <td>1.107000e+11</td>\n",
       "      <td>0.33023</td>\n",
       "      <td>Spine</td>\n",
       "      <td>NaN</td>\n",
       "      <td>NaN</td>\n",
       "      <td>0.0</td>\n",
       "      <td>NaN</td>\n",
       "      <td>100000011.0</td>\n",
       "      <td>NaN</td>\n",
       "      <td>...</td>\n",
       "      <td>NaN</td>\n",
       "      <td>NaN</td>\n",
       "      <td>NaN</td>\n",
       "      <td>1</td>\n",
       "      <td>NaN</td>\n",
       "      <td>NaN</td>\n",
       "      <td>NaN</td>\n",
       "      <td>NaN</td>\n",
       "      <td>0.999726</td>\n",
       "      <td>Spine Straightness</td>\n",
       "    </tr>\n",
       "  </tbody>\n",
       "</table>\n",
       "<p>5 rows × 21 columns</p>\n",
       "</div>"
      ]
     },
     "execution_count": 2,
     "metadata": {},
     "output_type": "execute_result"
    }
   ],
   "source": [
    "SpineLengthMixed = MergedSpineData[MergedSpineData.Variable == \"Spine Length\"].reset_index()\n",
    "SpineStraightMixed = MergedSpineData[MergedSpineData.Variable == \"Spine Straightness\"].reset_index()\n",
    "# extracting data from SpineLengthMixed\n",
    "SpineLength = SpineLengthMixed[SpineLengthMixed.index % 2 == 0].reset_index()\n",
    "SpineWidth = SpineLengthMixed[SpineLengthMixed.index % 2 == 1].reset_index()\n",
    "SpineStraightness = SpineStraightMixed[SpineStraightMixed.index % 2 == 0].reset_index()\n",
    "\n",
    "totalSpines = len(SpineLength)\n",
    "print(\"\\n================\\nTotal Spines: \"+str(totalSpines))\n",
    "\n",
    "SpineStraightness.head()"
   ]
  },
  {
   "cell_type": "markdown",
   "metadata": {},
   "source": [
    "### Prepare Merged Spines with Odd recording (for density only)"
   ]
  },
  {
   "cell_type": "code",
   "execution_count": 3,
   "metadata": {
    "collapsed": false
   },
   "outputs": [
    {
     "name": "stdout",
     "output_type": "stream",
     "text": [
      "\n================\nTotal Spines: 4784\n"
     ]
    },
    {
     "data": {
      "text/html": [
       "<div>\n",
       "<table border=\"1\" class=\"dataframe\">\n",
       "  <thead>\n",
       "    <tr style=\"text-align: right;\">\n",
       "      <th></th>\n",
       "      <th>index</th>\n",
       "      <th>ID</th>\n",
       "      <th>Variable</th>\n",
       "      <th>Value</th>\n",
       "      <th>Unit</th>\n",
       "      <th>Category</th>\n",
       "      <th>Channel</th>\n",
       "      <th>Collection</th>\n",
       "      <th>Depth</th>\n",
       "      <th>Distance</th>\n",
       "      <th>Level</th>\n",
       "      <th>Radius</th>\n",
       "      <th>Time</th>\n",
       "      <th>Type</th>\n",
       "      <th>FilamentID</th>\n",
       "      <th>Unnamed: 14</th>\n",
       "      <th>2D Spine Density</th>\n",
       "      <th>ImageName</th>\n",
       "    </tr>\n",
       "  </thead>\n",
       "  <tbody>\n",
       "    <tr>\n",
       "      <th>0</th>\n",
       "      <td>0</td>\n",
       "      <td>700000000</td>\n",
       "      <td>Spine Straightness</td>\n",
       "      <td>0.994012</td>\n",
       "      <td>NaN</td>\n",
       "      <td>Spine</td>\n",
       "      <td>NaN</td>\n",
       "      <td>NaN</td>\n",
       "      <td>0.0</td>\n",
       "      <td>NaN</td>\n",
       "      <td>1.0</td>\n",
       "      <td>NaN</td>\n",
       "      <td>1</td>\n",
       "      <td>NaN</td>\n",
       "      <td>100000000.0</td>\n",
       "      <td>NaN</td>\n",
       "      <td>0.375631</td>\n",
       "      <td>2016-10-14_id9643_slide1_column1_slice2_100x-S...</td>\n",
       "    </tr>\n",
       "    <tr>\n",
       "      <th>1</th>\n",
       "      <td>2</td>\n",
       "      <td>10700000000</td>\n",
       "      <td>Spine Straightness</td>\n",
       "      <td>0.982858</td>\n",
       "      <td>NaN</td>\n",
       "      <td>Spine</td>\n",
       "      <td>NaN</td>\n",
       "      <td>NaN</td>\n",
       "      <td>0.0</td>\n",
       "      <td>NaN</td>\n",
       "      <td>NaN</td>\n",
       "      <td>NaN</td>\n",
       "      <td>1</td>\n",
       "      <td>NaN</td>\n",
       "      <td>100000001.0</td>\n",
       "      <td>NaN</td>\n",
       "      <td>0.375631</td>\n",
       "      <td>2016-10-14_id9643_slide1_column1_slice2_100x-S...</td>\n",
       "    </tr>\n",
       "    <tr>\n",
       "      <th>2</th>\n",
       "      <td>4</td>\n",
       "      <td>30700000000</td>\n",
       "      <td>Spine Straightness</td>\n",
       "      <td>0.995122</td>\n",
       "      <td>NaN</td>\n",
       "      <td>Spine</td>\n",
       "      <td>NaN</td>\n",
       "      <td>NaN</td>\n",
       "      <td>0.0</td>\n",
       "      <td>NaN</td>\n",
       "      <td>NaN</td>\n",
       "      <td>NaN</td>\n",
       "      <td>1</td>\n",
       "      <td>NaN</td>\n",
       "      <td>100000003.0</td>\n",
       "      <td>NaN</td>\n",
       "      <td>0.375631</td>\n",
       "      <td>2016-10-14_id9643_slide1_column1_slice2_100x-S...</td>\n",
       "    </tr>\n",
       "    <tr>\n",
       "      <th>3</th>\n",
       "      <td>6</td>\n",
       "      <td>50700000000</td>\n",
       "      <td>Spine Straightness</td>\n",
       "      <td>0.999743</td>\n",
       "      <td>NaN</td>\n",
       "      <td>Spine</td>\n",
       "      <td>NaN</td>\n",
       "      <td>NaN</td>\n",
       "      <td>0.0</td>\n",
       "      <td>NaN</td>\n",
       "      <td>NaN</td>\n",
       "      <td>NaN</td>\n",
       "      <td>1</td>\n",
       "      <td>NaN</td>\n",
       "      <td>100000005.0</td>\n",
       "      <td>NaN</td>\n",
       "      <td>0.375631</td>\n",
       "      <td>2016-10-14_id9643_slide1_column1_slice2_100x-S...</td>\n",
       "    </tr>\n",
       "    <tr>\n",
       "      <th>4</th>\n",
       "      <td>8</td>\n",
       "      <td>70700000000</td>\n",
       "      <td>Spine Straightness</td>\n",
       "      <td>0.996192</td>\n",
       "      <td>NaN</td>\n",
       "      <td>Spine</td>\n",
       "      <td>NaN</td>\n",
       "      <td>NaN</td>\n",
       "      <td>0.0</td>\n",
       "      <td>NaN</td>\n",
       "      <td>NaN</td>\n",
       "      <td>NaN</td>\n",
       "      <td>1</td>\n",
       "      <td>NaN</td>\n",
       "      <td>100000007.0</td>\n",
       "      <td>NaN</td>\n",
       "      <td>0.375631</td>\n",
       "      <td>2016-10-14_id9643_slide1_column1_slice2_100x-S...</td>\n",
       "    </tr>\n",
       "  </tbody>\n",
       "</table>\n",
       "</div>"
      ],
      "text/plain": [
       "<div>\n",
       "<table border=\"1\" class=\"dataframe\">\n",
       "  <thead>\n",
       "    <tr style=\"text-align: right;\">\n",
       "      <th></th>\n",
       "      <th>index</th>\n",
       "      <th>ID</th>\n",
       "      <th>Variable</th>\n",
       "      <th>Value</th>\n",
       "      <th>Unit</th>\n",
       "      <th>Category</th>\n",
       "      <th>Channel</th>\n",
       "      <th>Collection</th>\n",
       "      <th>Depth</th>\n",
       "      <th>Distance</th>\n",
       "      <th>Level</th>\n",
       "      <th>Radius</th>\n",
       "      <th>Time</th>\n",
       "      <th>Type</th>\n",
       "      <th>FilamentID</th>\n",
       "      <th>Unnamed: 14</th>\n",
       "      <th>2D Spine Density</th>\n",
       "      <th>ImageName</th>\n",
       "    </tr>\n",
       "  </thead>\n",
       "  <tbody>\n",
       "    <tr>\n",
       "      <th>0</th>\n",
       "      <td>0</td>\n",
       "      <td>700000000</td>\n",
       "      <td>Spine Straightness</td>\n",
       "      <td>0.994012</td>\n",
       "      <td>NaN</td>\n",
       "      <td>Spine</td>\n",
       "      <td>NaN</td>\n",
       "      <td>NaN</td>\n",
       "      <td>0.0</td>\n",
       "      <td>NaN</td>\n",
       "      <td>1.0</td>\n",
       "      <td>NaN</td>\n",
       "      <td>1</td>\n",
       "      <td>NaN</td>\n",
       "      <td>100000000.0</td>\n",
       "      <td>NaN</td>\n",
       "      <td>0.375631</td>\n",
       "      <td>2016-10-14_id9643_slide1_column1_slice2_100x-S...</td>\n",
       "    </tr>\n",
       "    <tr>\n",
       "      <th>1</th>\n",
       "      <td>2</td>\n",
       "      <td>10700000000</td>\n",
       "      <td>Spine Straightness</td>\n",
       "      <td>0.982858</td>\n",
       "      <td>NaN</td>\n",
       "      <td>Spine</td>\n",
       "      <td>NaN</td>\n",
       "      <td>NaN</td>\n",
       "      <td>0.0</td>\n",
       "      <td>NaN</td>\n",
       "      <td>NaN</td>\n",
       "      <td>NaN</td>\n",
       "      <td>1</td>\n",
       "      <td>NaN</td>\n",
       "      <td>100000001.0</td>\n",
       "      <td>NaN</td>\n",
       "      <td>0.375631</td>\n",
       "      <td>2016-10-14_id9643_slide1_column1_slice2_100x-S...</td>\n",
       "    </tr>\n",
       "    <tr>\n",
       "      <th>2</th>\n",
       "      <td>4</td>\n",
       "      <td>30700000000</td>\n",
       "      <td>Spine Straightness</td>\n",
       "      <td>0.995122</td>\n",
       "      <td>NaN</td>\n",
       "      <td>Spine</td>\n",
       "      <td>NaN</td>\n",
       "      <td>NaN</td>\n",
       "      <td>0.0</td>\n",
       "      <td>NaN</td>\n",
       "      <td>NaN</td>\n",
       "      <td>NaN</td>\n",
       "      <td>1</td>\n",
       "      <td>NaN</td>\n",
       "      <td>100000003.0</td>\n",
       "      <td>NaN</td>\n",
       "      <td>0.375631</td>\n",
       "      <td>2016-10-14_id9643_slide1_column1_slice2_100x-S...</td>\n",
       "    </tr>\n",
       "    <tr>\n",
       "      <th>3</th>\n",
       "      <td>6</td>\n",
       "      <td>50700000000</td>\n",
       "      <td>Spine Straightness</td>\n",
       "      <td>0.999743</td>\n",
       "      <td>NaN</td>\n",
       "      <td>Spine</td>\n",
       "      <td>NaN</td>\n",
       "      <td>NaN</td>\n",
       "      <td>0.0</td>\n",
       "      <td>NaN</td>\n",
       "      <td>NaN</td>\n",
       "      <td>NaN</td>\n",
       "      <td>1</td>\n",
       "      <td>NaN</td>\n",
       "      <td>100000005.0</td>\n",
       "      <td>NaN</td>\n",
       "      <td>0.375631</td>\n",
       "      <td>2016-10-14_id9643_slide1_column1_slice2_100x-S...</td>\n",
       "    </tr>\n",
       "    <tr>\n",
       "      <th>4</th>\n",
       "      <td>8</td>\n",
       "      <td>70700000000</td>\n",
       "      <td>Spine Straightness</td>\n",
       "      <td>0.996192</td>\n",
       "      <td>NaN</td>\n",
       "      <td>Spine</td>\n",
       "      <td>NaN</td>\n",
       "      <td>NaN</td>\n",
       "      <td>0.0</td>\n",
       "      <td>NaN</td>\n",
       "      <td>NaN</td>\n",
       "      <td>NaN</td>\n",
       "      <td>1</td>\n",
       "      <td>NaN</td>\n",
       "      <td>100000007.0</td>\n",
       "      <td>NaN</td>\n",
       "      <td>0.375631</td>\n",
       "      <td>2016-10-14_id9643_slide1_column1_slice2_100x-S...</td>\n",
       "    </tr>\n",
       "  </tbody>\n",
       "</table>\n",
       "</div>"
      ]
     },
     "execution_count": 3,
     "metadata": {},
     "output_type": "execute_result"
    }
   ],
   "source": [
    "SpineLengthMixedOdd = MergedSpineDataOdd[MergedSpineDataOdd.Variable == \"Spine Length\"].reset_index()\n",
    "SpineStraightMixedOdd = MergedSpineDataOdd[MergedSpineDataOdd.Variable == \"Spine Straightness\"].reset_index()\n",
    "# extracting data from SpineLengthMixed\n",
    "SpineLengthOdd = SpineLengthMixedOdd[SpineLengthMixedOdd.index % 2 == 0].reset_index()\n",
    "SpineWidthOdd = SpineLengthMixedOdd[SpineLengthMixedOdd.index % 2 == 1].reset_index()\n",
    "SpineStraightnessOdd = SpineStraightMixedOdd[SpineStraightMixedOdd.index % 2 == 0].reset_index()\n",
    "\n",
    "totalSpines = len(SpineLengthOdd)\n",
    "print(\"\\n================\\nTotal Spines: \"+str(totalSpines))\n",
    "\n",
    "SpineStraightnessOdd.head()"
   ]
  },
  {
   "cell_type": "markdown",
   "metadata": {},
   "source": [
    "### Prepare Metadata File"
   ]
  },
  {
   "cell_type": "code",
   "execution_count": 4,
   "metadata": {
    "collapsed": true
   },
   "outputs": [
    {
     "data": {
      "text/html": [
       "<div>\n",
       "<table border=\"1\" class=\"dataframe\">\n",
       "  <thead>\n",
       "    <tr style=\"text-align: right;\">\n",
       "      <th></th>\n",
       "      <th>brainSlice</th>\n",
       "      <th>Image Name</th>\n",
       "      <th>dendriteType</th>\n",
       "      <th>pyramidalLayer</th>\n",
       "      <th>Genotype</th>\n",
       "    </tr>\n",
       "  </thead>\n",
       "  <tbody>\n",
       "    <tr>\n",
       "      <th>292</th>\n",
       "      <td>2016-10-22_id9842_slide1_column1_slice3_100x-S...</td>\n",
       "      <td>2016-10-22_id9842_slide1_column1_slice3_100x-S...</td>\n",
       "      <td>apical</td>\n",
       "      <td>l5</td>\n",
       "      <td>WT</td>\n",
       "    </tr>\n",
       "    <tr>\n",
       "      <th>293</th>\n",
       "      <td>2016-10-22_id9842_slide1_column1_slice3_100x-S...</td>\n",
       "      <td>2016-10-22_id9842_slide1_column1_slice3_100x-S...</td>\n",
       "      <td>apical</td>\n",
       "      <td>l5</td>\n",
       "      <td>WT</td>\n",
       "    </tr>\n",
       "    <tr>\n",
       "      <th>294</th>\n",
       "      <td>2016-10-22_id9842_slide1_column1_slice3_100x-S...</td>\n",
       "      <td>2016-10-22_id9842_slide1_column1_slice3_100x-S...</td>\n",
       "      <td>apical</td>\n",
       "      <td>l5</td>\n",
       "      <td>WT</td>\n",
       "    </tr>\n",
       "    <tr>\n",
       "      <th>295</th>\n",
       "      <td>2016-10-22_id9842_slide1_column2_slice3_100x-S...</td>\n",
       "      <td>2016-10-22_id9842_slide1_column2_slice3_100x-S...</td>\n",
       "      <td>apical</td>\n",
       "      <td>l5</td>\n",
       "      <td>WT</td>\n",
       "    </tr>\n",
       "    <tr>\n",
       "      <th>296</th>\n",
       "      <td>2016-10-22_id9842_slide1_column2_slice3_100x-S...</td>\n",
       "      <td>2016-10-22_id9842_slide1_column2_slice3_100x-S...</td>\n",
       "      <td>basal</td>\n",
       "      <td>l5</td>\n",
       "      <td>WT</td>\n",
       "    </tr>\n",
       "  </tbody>\n",
       "</table>\n",
       "</div>"
      ],
      "text/plain": [
       "<div>\n",
       "<table border=\"1\" class=\"dataframe\">\n",
       "  <thead>\n",
       "    <tr style=\"text-align: right;\">\n",
       "      <th></th>\n",
       "      <th>brainSlice</th>\n",
       "      <th>Image Name</th>\n",
       "      <th>dendriteType</th>\n",
       "      <th>pyramidalLayer</th>\n",
       "      <th>Genotype</th>\n",
       "    </tr>\n",
       "  </thead>\n",
       "  <tbody>\n",
       "    <tr>\n",
       "      <th>292</th>\n",
       "      <td>2016-10-22_id9842_slide1_column1_slice3_100x-S...</td>\n",
       "      <td>2016-10-22_id9842_slide1_column1_slice3_100x-S...</td>\n",
       "      <td>apical</td>\n",
       "      <td>l5</td>\n",
       "      <td>WT</td>\n",
       "    </tr>\n",
       "    <tr>\n",
       "      <th>293</th>\n",
       "      <td>2016-10-22_id9842_slide1_column1_slice3_100x-S...</td>\n",
       "      <td>2016-10-22_id9842_slide1_column1_slice3_100x-S...</td>\n",
       "      <td>apical</td>\n",
       "      <td>l5</td>\n",
       "      <td>WT</td>\n",
       "    </tr>\n",
       "    <tr>\n",
       "      <th>294</th>\n",
       "      <td>2016-10-22_id9842_slide1_column1_slice3_100x-S...</td>\n",
       "      <td>2016-10-22_id9842_slide1_column1_slice3_100x-S...</td>\n",
       "      <td>apical</td>\n",
       "      <td>l5</td>\n",
       "      <td>WT</td>\n",
       "    </tr>\n",
       "    <tr>\n",
       "      <th>295</th>\n",
       "      <td>2016-10-22_id9842_slide1_column2_slice3_100x-S...</td>\n",
       "      <td>2016-10-22_id9842_slide1_column2_slice3_100x-S...</td>\n",
       "      <td>apical</td>\n",
       "      <td>l5</td>\n",
       "      <td>WT</td>\n",
       "    </tr>\n",
       "    <tr>\n",
       "      <th>296</th>\n",
       "      <td>2016-10-22_id9842_slide1_column2_slice3_100x-S...</td>\n",
       "      <td>2016-10-22_id9842_slide1_column2_slice3_100x-S...</td>\n",
       "      <td>basal</td>\n",
       "      <td>l5</td>\n",
       "      <td>WT</td>\n",
       "    </tr>\n",
       "  </tbody>\n",
       "</table>\n",
       "</div>"
      ]
     },
     "execution_count": 4,
     "metadata": {},
     "output_type": "execute_result"
    }
   ],
   "source": [
    "metadataFile = pd.read_excel(\"data/Golgi Acquisition DB 8_adopted.xlsx\", sheetname=\"Sheet2\")\n",
    "metadataFile.tail()"
   ]
  },
  {
   "cell_type": "markdown",
   "metadata": {},
   "source": [
    "## Consolidate into separate files"
   ]
  },
  {
   "cell_type": "markdown",
   "metadata": {},
   "source": [
    "### Consolidate Odd"
   ]
  },
  {
   "cell_type": "code",
   "execution_count": 5,
   "metadata": {},
   "outputs": [],
   "source": [
    "mergedSpineDFOdd = pd.DataFrame()\n",
    "mergedSpineDFOdd = pd.concat([SpineLengthOdd.Value, SpineWidthOdd.Value, SpineLengthOdd[\"2D Spine Density\"], SpineStraightnessOdd.Value, SpineLengthOdd.ImageName], axis=1)\n",
    "mergedSpineDFOdd.columns = [\"Spine Length, um\", \"Head Width, um\", \"2D Spine Density 1/um\", \"Straightness\", \"Image Name\"]\n",
    "\n",
    "mergedSpineDFOdd.head()\n",
    "mergedSpineDFOddMeta = pd.merge(mergedSpineDFOdd, metadataFile, how='left', on=\"Image Name\")\n",
    "mergedSpineDFOddMeta.to_excel('output/mergedSpineDFOddMeta.xlsx','Sheet1')"
   ]
  },
  {
   "cell_type": "markdown",
   "metadata": {},
   "source": [
    "### Consolidate Normal"
   ]
  },
  {
   "cell_type": "code",
   "execution_count": 6,
   "metadata": {
    "collapsed": false
   },
   "outputs": [],
   "source": [
    "mergedSpineDF = pd.DataFrame()\n",
    "mergedSpineDF = pd.concat([SpineLength.Value, SpineWidth.Value, SpineLength[\"2D Spine Density\"], SpineStraightness.Value, SpineLength.ImageName], axis=1)\n",
    "mergedSpineDF.columns = [\"Spine Length, um\", \"Head Width, um\", \"2D Spine Density 1/um\", \"Straightness\", \"Image Name\"]\n",
    "\n",
    "mergedSpineDF.head()\n",
    "mergedSpineDFMeta = pd.merge(mergedSpineDF, metadataFile, how='left', on=\"Image Name\")\n",
    "mergedSpineDFMeta.to_excel('output/mergedSpineDFMeta.xlsx','Sheet1')"
   ]
  },
  {
   "cell_type": "code",
   "execution_count": 14,
   "metadata": {
    "collapsed": false
   },
   "outputs": [
    {
     "name": "stdout",
     "output_type": "stream",
     "text": [
      "CKO Spine Length, um\ncount    1749.000000\nmean        1.840199\nstd         0.942113\nmin         1.004230\n25%         1.065310\n50%         1.660230\n75%         2.231000\nmax        10.558100\nName: Spine Length, um, dtype: float64\nWT Spine Length, um\ncount    2684.000000\nmean        1.767639\nstd         0.849886\nmin         0.560227\n25%         1.069345\n50%         1.310125\n75%         2.186930\nmax         7.807780\nName: Spine Length, um, dtype: float64\nCKO Head Width, um\ncount    1749.000000\nmean        1.811700\nstd         0.931032\nmin         0.901008\n25%         1.059060\n50%         1.283730\n75%         2.214630\nmax         7.942090\nName: Head Width, um, dtype: float64\nWT Head Width, um\ncount    2684.000000\nmean        1.769866\nstd         0.833127\nmin         0.777730\n25%         1.069738\n50%         1.293900\n75%         2.197703\nmax         5.567900\nName: Head Width, um, dtype: float64\nCKO 2D Spine Density 1/um\ncount    1749.000000\nmean        0.414748\nstd         0.191281\nmin         0.067741\n25%         0.271730\n50%         0.347947\n75%         0.530653\nmax         0.841731\nName: 2D Spine Density 1/um, dtype: float64\nWT 2D Spine Density 1/um\ncount    2684.000000\nmean        0.438357\nstd         0.138863\nmin         0.172748\n25%         0.336313\n50%         0.423537\n75%         0.512785\nmax         0.954173\nName: 2D Spine Density 1/um, dtype: float64\n"
     ]
    }
   ],
   "source": [
    "print('CKO Spine Length, um')\n",
    "print(mergedSpineDFMeta[mergedSpineDFMeta.Genotype==\"CKO\"]['Spine Length, um'].describe())\n",
    "print('WT Spine Length, um')\n",
    "print(mergedSpineDFMeta[mergedSpineDFMeta.Genotype==\"WT\"]['Spine Length, um'].describe())\n",
    "\n",
    "print('CKO Head Width, um')\n",
    "print(mergedSpineDFMeta[mergedSpineDFMeta.Genotype==\"CKO\"]['Head Width, um'].describe())\n",
    "print('WT Head Width, um')\n",
    "print(mergedSpineDFMeta[mergedSpineDFMeta.Genotype==\"WT\"]['Head Width, um'].describe())\n",
    "\n",
    "print('CKO 2D Spine Density 1/um')\n",
    "print(mergedSpineDFMeta[mergedSpineDFMeta.Genotype==\"CKO\"]['2D Spine Density 1/um'].describe())\n",
    "print('WT 2D Spine Density 1/um')\n",
    "print(mergedSpineDFMeta[mergedSpineDFMeta.Genotype==\"WT\"]['2D Spine Density 1/um'].describe())\n",
    "\n",
    "print('CKO 2D Spine Density 1/um')\n",
    "print(mergedSpineDFMeta[mergedSpineDFMeta.Genotype==\"CKO\"]['2D Spine Density 1/um'].describe())\n",
    "print('WT 2D Spine Density 1/um')\n",
    "print(mergedSpineDFMeta[mergedSpineDFMeta.Genotype==\"WT\"]['2D Spine Density 1/um'].describe())"
   ]
  },
  {
   "cell_type": "code",
   "execution_count": 41,
   "metadata": {},
   "outputs": [
    {
     "name": "stdout",
     "output_type": "stream",
     "text": [
      "CKO 2D Spine Density 1/um\ncount    654.000000\nmean       0.338766\nstd        0.140495\nmin        0.067741\n25%        0.244130\n50%        0.323320\n75%        0.361505\nmax        0.831316\nName: 2D Spine Density 1/um, dtype: float64\nWT 2D Spine Density 1/um\ncount    1084.000000\nmean        0.413709\nstd         0.168940\nmin         0.172748\n25%         0.298674\n50%         0.366679\n75%         0.498018\nmax         0.954173\nName: 2D Spine Density 1/um, dtype: float64\n"
     ]
    },
    {
     "data": {
      "text/plain": [
       "<matplotlib.axes._subplots.AxesSubplot at 0x24583d46710>"
      ]
     },
     "execution_count": 41,
     "metadata": {},
     "output_type": "execute_result"
    },
    {
     "data": {
      "image/png": "[encoded data removed]",
      "text/plain": [
       "<matplotlib.figure.Figure at 0x24583cdb2b0>"
      ]
     },
     "metadata": {},
     "output_type": "display_data"
    },
    {
     "data": {
      "image/png": "[encoded data removed]",
      "text/plain": [
       "<matplotlib.figure.Figure at 0x24583c7b3c8>"
      ]
     },
     "metadata": {},
     "output_type": "display_data"
    }
   ],
   "source": [
    "%matplotlib inline\n",
    "import warnings\n",
    "warnings.filterwarnings('ignore')\n",
    "plt.style.use('ggplot')\n",
    "\n",
    "print('CKO 2D Spine Density 1/um')\n",
    "print(mergedSpineDFMeta[(mergedSpineDFMeta.Genotype==\"CKO\") & (mergedSpineDFMeta.dendriteType==\"basal\")]['2D Spine Density 1/um'].describe())\n",
    "print('WT 2D Spine Density 1/um')\n",
    "print(mergedSpineDFMeta[(mergedSpineDFMeta.Genotype==\"WT\") & (mergedSpineDFMeta.dendriteType==\"basal\")]['2D Spine Density 1/um'].describe())\n",
    "plt.figure()\n",
    "mergedSpineDFMeta[(mergedSpineDFMeta.Genotype==\"CKO\") & (mergedSpineDFMeta.dendriteType==\"basal\")].boxplot('2D Spine Density 1/um')\n",
    "plt.figure()\n",
    "mergedSpineDFMeta[(mergedSpineDFMeta.Genotype==\"WT\") & (mergedSpineDFMeta.dendriteType==\"basal\")].boxplot('2D Spine Density 1/um')"
   ]
  },
  {
   "cell_type": "code",
   "execution_count": 85,
   "metadata": {},
   "outputs": [
    {
     "data": {
      "image/png": "[encoded data removed]",
      "text/plain": [
       "<matplotlib.figure.Figure at 0x245853eaef0>"
      ]
     },
     "metadata": {},
     "output_type": "display_data"
    },
    {
     "data": {
      "image/png": "[encoded data removed]",
      "text/plain": [
       "<matplotlib.figure.Figure at 0x245853abe48>"
      ]
     },
     "metadata": {},
     "output_type": "display_data"
    },
    {
     "data": {
      "image/png": "[encoded data removed]",
      "text/plain": [
       "<matplotlib.figure.Figure at 0x24584a3f668>"
      ]
     },
     "metadata": {},
     "output_type": "display_data"
    },
    {
     "data": {
      "image/png": "[encoded data removed]",
      "text/plain": [
       "<matplotlib.figure.Figure at 0x24583e3d828>"
      ]
     },
     "metadata": {},
     "output_type": "display_data"
    }
   ],
   "source": [
    "import seaborn as sns\n",
    "from matplotlib import rcParams\n",
    "rcParams.update({'figure.autolayout': True})\n",
    "\n",
    "mergedSpineDFMetaBasal = mergedSpineDFMeta[(mergedSpineDFMeta.dendriteType==\"basal\")]\n",
    "plt.figure(figsize=(2, 4))\n",
    "ax = sns.boxplot(y=\"2D Spine Density 1/um\", x=\"Genotype\", data=mergedSpineDFMetaBasal, palette=\"Set3\", width=0.4)\n",
    "plt.savefig('basal-2D Spine Density.png')\n",
    "plt.figure(figsize=(2, 4))\n",
    "ax = sns.boxplot(y=\"Spine Length, um\", x=\"Genotype\", data=mergedSpineDFMetaBasal, palette=\"Set3\", width=0.4)\n",
    "plt.savefig('basal-Spine Length.png')\n",
    "plt.figure(figsize=(2, 4))\n",
    "ax = sns.boxplot(y=\"Head Width, um\", x=\"Genotype\", data=mergedSpineDFMetaBasal, palette=\"Set3\", width=0.4)\n",
    "plt.savefig('basal-Head Width.png')\n",
    "plt.figure(figsize=(2, 4))\n",
    "ax = sns.boxplot(y=\"Straightness\", x=\"Genotype\", data=mergedSpineDFMetaBasal, palette=\"Set3\", width=0.4)\n",
    "plt.savefig('basal-Straightness.png')"
   ]
  }
 ],
 "metadata": {
  "anaconda-cloud": {},
  "kernelspec": {
   "display_name": "Python 3",
   "language": "python",
   "name": "python3"
  },
  "language_info": {
   "codemirror_mode": {
    "name": "ipython",
    "version": 3.0
   },
   "file_extension": ".py",
   "mimetype": "text/x-python",
   "name": "python",
   "nbconvert_exporter": "python",
   "pygments_lexer": "ipython3",
   "version": "3.5.2"
  }
 },
 "nbformat": 4,
 "nbformat_minor": 0
}