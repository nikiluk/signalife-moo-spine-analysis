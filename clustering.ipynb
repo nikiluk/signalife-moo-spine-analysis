{
 "cells": [
  {
   "cell_type": "code",
   "execution_count": 3,
   "metadata": {
    "collapsed": true
   },
   "outputs": [],
   "source": [
    "import iofunctions as iof\n",
    "import os\n",
    "import pandas as pd\n",
    "import matplotlib.pyplot as plt\n",
    "%matplotlib inline\n",
    "import warnings\n",
    "import numpy as np\n",
    "\n",
    "from scipy.stats import ttest_1samp, wilcoxon, ttest_ind, mannwhitneyu\n",
    "from scipy.special import stdtr\n",
    "\n",
    "import seaborn as sns\n",
    "from matplotlib import rcParams\n",
    "rcParams.update({'figure.autolayout': True})\n",
    "\n",
    "\n",
    "warnings.filterwarnings('ignore')\n",
    "plt.style.use('ggplot')\n",
    "\n",
    "mergedSpineDFMetaComplete = pd.read_excel('output/mergedSpineDFMetaComplete.xlsx','Sheet1')\n",
    "\n",
    "mergedSpineDFMetaNormalApical = mergedSpineDFMetaComplete[(mergedSpineDFMetaComplete['oddType'] == \"Normal\")&(mergedSpineDFMetaComplete.dendriteType==\"apical\")&(mergedSpineDFMetaComplete.pyramidalLayer==\"l5\")].drop_duplicates()\n",
    "mergedSpineDFMetaNormalBasal = mergedSpineDFMetaComplete[(mergedSpineDFMetaComplete['oddType'] == \"Normal\")&(mergedSpineDFMetaComplete.dendriteType==\"basal\")&(mergedSpineDFMetaComplete.pyramidalLayer==\"l5\")].drop_duplicates()"
   ]
  },
  {
   "cell_type": "code",
   "execution_count": 64,
   "metadata": {
    "collapsed": false
   },
   "outputs": [
    {
     "name": "stdout",
     "output_type": "stream",
     "text": [
      "[[ 2.04637   1.03451   0.999089]\n [ 3.15515   1.103     0.983539]\n [ 2.24407   2.14697   0.997549]\n ..., \n [ 2.00111   1.22988   0.972127]\n [ 2.06518   1.11854   0.996846]\n [ 1.02872   1.07155   1.      ]]\n[[  2.37862504   1.16313722  25.57536557]\n [  3.66743003   1.24014302  25.17730601]\n [  2.60842423   2.41391647  25.5359436 ]\n ..., \n [  2.32601649   1.38279882  24.8851738 ]\n [  2.40048909   1.25761521  25.51794772]\n [  1.1957462    1.20478264  25.59868598]]\n"
     ]
    }
   ],
   "source": [
    "import scipy.cluster\n",
    "from numpy import array\n",
    "\n",
    "#1 \"Spine Length, um\"\n",
    "#2 \"Head Width, um\"\n",
    "#3 \"Straightness\"\n",
    "clusteringRawInput = mergedSpineDFMetaNormalApical[[\"Spine Length, um\",\"Head Width, um\",\"Straightness\"]].as_matrix()\n",
    "print(clusteringRawInput)\n",
    "whitened = scipy.cluster.vq.whiten(clusteringRawInput)\n",
    "print(whitened)\n",
    "\n",
    "initial, clusters = scipy.cluster.vq.kmeans2(whitened, 3, 1000)"
   ]
  },
  {
   "cell_type": "code",
   "execution_count": 79,
   "metadata": {},
   "outputs": [
    {
     "name": "stdout",
     "output_type": "stream",
     "text": [
      "#3498db\n"
     ]
    }
   ],
   "source": [
    "from mpl_toolkits.mplot3d import Axes3D\n",
    "%matplotlib inline\n",
    "import random\n",
    "\n",
    "\n",
    "fig = plt.figure()\n",
    "ax = fig.add_subplot(111, projection='3d')\n",
    "\n",
    "x = whitened[:,0]\n",
    "y = whitened[:,1]\n",
    "z = whitened[:,2]\n",
    "\n",
    "flatui = [\"#9b59b6\", \"#3498db\", \"#95a5a6\", \"#e74c3c\", \"#34495e\", \"#2ecc71\"]\n",
    "\n",
    "#for cluster in clusters:\n",
    "    #colors[cluster] = flatui[int(clusters[cluster])]\n",
    "\n",
    "ax.scatter(x, y, z, c=colors, marker='o')\n",
    "\n",
    "ax.set_xlabel('Spine Length')\n",
    "ax.set_ylabel('Head Width')\n",
    "ax.set_zlabel('Straightness')\n",
    "\n",
    "plt.savefig(\"3dscatter.png\")\n",
    "\n",
    "print(colors)"
   ]
  }
 ],
 "metadata": {
  "kernelspec": {
   "display_name": "Python 2",
   "language": "python",
   "name": "python2"
  },
  "language_info": {
   "codemirror_mode": {
    "name": "ipython",
    "version": 2.0
   },
   "file_extension": ".py",
   "mimetype": "text/x-python",
   "name": "python",
   "nbconvert_exporter": "python",
   "pygments_lexer": "ipython2",
   "version": "2.7.6"
  }
 },
 "nbformat": 4,
 "nbformat_minor": 0
}